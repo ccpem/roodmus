{
 "cells": [
  {
   "attachments": {},
   "cell_type": "markdown",
   "metadata": {},
   "source": [
    "## Notebook showcasing the various options in Roodmus for analysis and visualisations\n",
    "In this notebook, the user can load metadata from one or several jobs from a processing pipeline done in RELION or cryoSPARC. This metadata, along with the ground-truth particle parameters are loaded into data frames, which allow for easy and conveniet plotting. We also provide several convenient functions to make plots.\n"
   ]
  },
  {
   "cell_type": "code",
   "execution_count": null,
   "metadata": {},
   "outputs": [],
   "source": [
    "### imports\n",
    "# general\n",
    "import numpy as np\n",
    "import pandas as pd\n",
    "\n",
    "# roodmus\n",
    "from roodmus.analysis.utils import load_data\n",
    "from roodmus.analysis.plot_ctf import plot_CTF, plot_defocus_scatter\n",
    "from roodmus.analysis.plot_picking import (\n",
    "    label_micrograph_picked, \n",
    "    label_micrograph_truth,\n",
    "    label_micrograph_truth_and_picked, \n",
    "    plot_precision, plot_recall, \n",
    "    plot_boundary_investigation,\n",
    "    plot_overlap_investigation, \n",
    "    plot_precision_and_recall, \n",
    "    plot_f1_score\n",
    ")\n",
    "from roodmus.analysis.plot_frames import plot_frame_distribution\n",
    "from roodmus.analysis.plot_classes import plot_2Dclass_precision, plot_2Dclasses_frames\n",
    "from roodmus.analysis.plot_alignment import plot_picked_pose_distribution, plot_true_pose_distribution\n"
   ]
  },
  {
   "cell_type": "code",
   "execution_count": null,
   "metadata": {},
   "outputs": [],
   "source": [
    "### data loading\n",
    "config_dir = \"/home/mjoosten1/projects/roodmus/data/6xm5_steered_Roodmus_2/mrc/\"\n",
    "meta_files = [\n",
    "    # \"data/6xm5_steered_Roodmus_2/cryoSPARC/J508_picked_particles.cs\",\n",
    "    # \"data/6xm5_steered_Roodmus_2/cryoSPARC/J511_050_particles.cs\",\n",
    "    # \"data/6xm5_steered_Roodmus_2/cryoSPARC/J513_passthrough_particles_selected.cs\",\n",
    "    # \"data/6xm5_steered_Roodmus_2/cryoSPARC/J515_topaz_picked_particles.cs\",\n",
    "    # \"data/6xm5_steered_Roodmus_2/cryoSPARC/J518_050_particles.cs\",\n",
    "    # [\"data/6xm5_steered_Roodmus_2/cryoSPARC/J519_class_00_final_particles.cs\",\n",
    "    #      \"data/6xm5_steered_Roodmus_2/cryoSPARC/J519_passthrough_particles_class_0.cs\"],\n",
    "    # [\"data/6xm5_steered_Roodmus_2/cryoSPARC/J519_class_01_final_particles.cs\",\n",
    "    #     \"data/6xm5_steered_Roodmus_2/cryoSPARC/J519_passthrough_particles_class_1.cs\"],\n",
    "    # [\"data/6xm5_steered_Roodmus_2/cryoSPARC/J519_class_02_final_particles.cs\",\n",
    "    #     \"data/6xm5_steered_Roodmus_2/cryoSPARC/J519_passthrough_particles_class_2.cs\"],\n",
    "    [\"data/6xm5_steered_Roodmus_2/cryoSPARC/J519_class_03_final_particles.cs\",\n",
    "        \"data/6xm5_steered_Roodmus_2/cryoSPARC/J519_passthrough_particles_class_3.cs\"],\n",
    "]\n",
    "\n",
    "jobtypes = {\n",
    "    \"data/6xm5_steered_Roodmus_2/cryoSPARC/J508_picked_particles.cs\": \"blob picker\",\n",
    "    \"data/6xm5_steered_Roodmus_2/cryoSPARC/J511_050_particles.cs\": \"2D classification\",\n",
    "    \"data/6xm5_steered_Roodmus_2/cryoSPARC/J513_passthrough_particles_selected.cs\": \"2D class selection\",\n",
    "    \"data/6xm5_steered_Roodmus_2/cryoSPARC/J515_topaz_picked_particles.cs\": \"topaz picking\",\n",
    "    \"data/6xm5_steered_Roodmus_2/cryoSPARC/J518_050_particles.cs\": \"2D classification 2\",\n",
    "    \"data/6xm5_steered_Roodmus_2/cryoSPARC/J519_class_00_final_particles.cs\": \"3D class 0\",\n",
    "    \"data/6xm5_steered_Roodmus_2/cryoSPARC/J519_class_01_final_particles.cs\": \"3D class 1\",\n",
    "    \"data/6xm5_steered_Roodmus_2/cryoSPARC/J519_class_02_final_particles.cs\": \"3D class 2\",\n",
    "    \"data/6xm5_steered_Roodmus_2/cryoSPARC/J519_class_03_final_particles.cs\": \"3D class 3\",\n",
    "}\n",
    "\n",
    "particle_diameter = 100 # approximate particle diameter in Angstroms\n",
    "ugraph_shape = (4000, 4000) # shape of the micrograph in pixels. Only needs to be given if the metadata file is a .star file\n",
    "verbose = True\n",
    "\n",
    "for i, meta_file in enumerate(meta_files):\n",
    "    if i == 0:\n",
    "        analysis = load_data(meta_file, config_dir, particle_diameter, ugraph_shape=ugraph_shape, verbose=verbose) # creates the class\n",
    "    else:\n",
    "        analysis.add_data(meta_file, config_dir, verbose=verbose) # updates the class with the next metadata file\n"
   ]
  },
  {
   "cell_type": "code",
   "execution_count": null,
   "metadata": {},
   "outputs": [],
   "source": [
    "### data loading\n",
    "config_dir = \"/home/mjoosten1/projects/roodmus/data/DESRES/MapReconstruction/Micrographs/\"\n",
    "meta_files = [\n",
    "    \"data/DESRES/MapReconstruction/Extract/job007/particles.star\",\n",
    "    \"data/DESRES/MapReconstruction/Class2D/job008/run_it200_data.star\",\n",
    "    \"data/DESRES/MapReconstruction/Select/job009/particles.star\",\n",
    "    \"data/DESRES/MapReconstruction/InitialModel/job010/run_it100_data.star\",\n",
    "    # \"data/DESRES/MapReconstruction/Class3D/job011/run_it000_data.star\",\n",
    "    \"data/DESRES/MapReconstruction/Extract/job013/particles.star\",\n",
    "    \"data/DESRES/MapReconstruction/Refine3D/job014/run_it015_data.star\",\n",
    "]\n",
    "\n",
    "jobtypes = {\n",
    "    \"data/DESRES/MapReconstruction/Extract/job007/particles.star\": \"topaz picking\",\n",
    "    \"data/DESRES/MapReconstruction/Class2D/job008/run_it200_data.star\": \"2D classification\",\n",
    "    \"data/DESRES/MapReconstruction/Select/job009/particles.star\": \"class selection\",\n",
    "    \"data/DESRES/MapReconstruction/InitialModel/job010/run_it100_data.star\": \"3D initial model\",\n",
    "    \"data/DESRES/MapReconstruction/Class3D/job011/run_it100_data.star\": \"3D classification\",\n",
    "    \"data/DESRES/MapReconstruction/Extract/job013/particles.star\": \"3D class selection\",\n",
    "    \"data/DESRES/MapReconstruction/Refine3D/job014/run_it015_data.star\": \"3D refinement\",\n",
    "}\n",
    "\n",
    "particle_diameter = 100 # approximate particle diameter in Angstroms\n",
    "ugraph_shape = (4000, 4000) # shape of the micrograph in pixels. Only needs to be given if the metadata file is a .star file\n",
    "verbose = True\n",
    "\n",
    "for i, meta_file in enumerate(meta_files):\n",
    "    if i == 0:\n",
    "        analysis = load_data(meta_file, config_dir, particle_diameter, ugraph_shape=ugraph_shape, verbose=verbose) # creates the class\n",
    "    else:\n",
    "        analysis.add_data(meta_file, config_dir, verbose=verbose) # updates the class with the next metadata file\n"
   ]
  },
  {
   "cell_type": "code",
   "execution_count": null,
   "metadata": {},
   "outputs": [],
   "source": [
    "### turn the loaded data into a pandas dataframe\n",
    "df_picked = pd.DataFrame(analysis.results_picking)\n",
    "df_truth = pd.DataFrame(analysis.results_truth)\n",
    "df_picked.tail()\n"
   ]
  },
  {
   "cell_type": "code",
   "execution_count": null,
   "metadata": {},
   "outputs": [],
   "source": [
    "### saving the dataframes\n",
    "# it is recommended to save the dataframes after running the rest of the notebook, as they may be modified by downstream analysis\n",
    "\n",
    "df_picked.to_csv(\"picked_particles.csv\")\n",
    "df_truth.to_csv(\"truth_particles.csv\")"
   ]
  },
  {
   "attachments": {},
   "cell_type": "markdown",
   "metadata": {},
   "source": [
    "### CTF estimation\n"
   ]
  },
  {
   "cell_type": "code",
   "execution_count": null,
   "metadata": {},
   "outputs": [],
   "source": [
    "### scatter plot of the estimated vs. the true defocus values\n",
    "meta_index = 0 # index of the metadata file to plot\n",
    "\n",
    "palette = \"RdBu\"\n",
    "\n",
    "fig, ax = plot_defocus_scatter(df_picked,\n",
    "                                meta_files[meta_index],\n",
    "                                df_truth,\n",
    "                                palette=palette)\n"
   ]
  },
  {
   "cell_type": "code",
   "execution_count": null,
   "metadata": {},
   "outputs": [],
   "source": [
    "### plot the CTF estimation for a single micrograph\n",
    "meta_index = 0 # index of the metadata file to plot\n",
    "ugraph_index = 3 # which micrograph to plot\n",
    "\n",
    "fig, ax = plot_CTF(df_picked, meta_files[meta_index],\n",
    "                    df_truth, config_dir, ugraph_index)"
   ]
  },
  {
   "cell_type": "code",
   "execution_count": null,
   "metadata": {},
   "outputs": [],
   "source": [
    "### plot the CTF for the particle with the largest defocus error (should take no more than a few seconds)\n",
    "max_error_index = 0\n",
    "max_error = 0\n",
    "for i, groupname in enumerate(df_picked.groupby([\"ugraph_filename\"]).groups.keys()):\n",
    "    defocus_estimated = df_picked.groupby([\"ugraph_filename\"]).get_group(groupname)[\"defocusU\"].mean()\n",
    "    defcous_true = np.abs(df_truth.groupby([\"ugraph_filename\"]).get_group(groupname)[\"defocus\"].mean())\n",
    "    error = np.abs(defocus_estimated - defcous_true)\n",
    "    if error > max_error:\n",
    "        max_error = error\n",
    "        max_error_index = i\n",
    "\n",
    "fig, ax = plot_CTF(df_picked, None, df_truth, config_dir, max_error_index)\n"
   ]
  },
  {
   "attachments": {},
   "cell_type": "markdown",
   "metadata": {},
   "source": [
    "### Particle picking"
   ]
  },
  {
   "cell_type": "code",
   "execution_count": null,
   "metadata": {},
   "outputs": [],
   "source": [
    "### plot the picked particles\n",
    "ugraph_index = 0 # which micrograph to plot\n",
    "metadata_index = 3 # which metadata file to plot\n",
    "\n",
    "fig, ax = label_micrograph_picked(df_picked, meta_files[meta_index],\n",
    "                                   ugraph_index, config_dir, box_width=48, box_height=48, verbose=verbose)\n",
    "ax.set_xticks([])\n",
    "ax.set_yticks([])\n",
    "fig.tight_layout()\n",
    "fig.set_size_inches(7, 7)\n"
   ]
  },
  {
   "cell_type": "code",
   "execution_count": null,
   "metadata": {},
   "outputs": [],
   "source": [
    "### plot the truth particles\n",
    "ugraph_index = 3 # which micrograph to plot\n",
    "\n",
    "fig, ax = label_micrograph_truth(df_truth, ugraph_index, config_dir, box_width=32, box_height=32, verbose=verbose)\n",
    "ax.set_xticks([])\n",
    "ax.set_yticks([])\n",
    "fig.tight_layout()\n",
    "fig.set_size_inches(7, 7)\n"
   ]
  },
  {
   "cell_type": "code",
   "execution_count": null,
   "metadata": {},
   "outputs": [],
   "source": [
    "### plot the truth and picked particles\n",
    "ugraph_index = 3 # which micrograph to plot\n",
    "metadata_index = 3 # which metadata file to plot\n",
    "\n",
    "fig, ax = label_micrograph_truth_and_picked(df_picked, meta_files[meta_index],\n",
    "                                             df_truth, ugraph_index, config_dir, box_width=48, box_height=48, verbose=verbose)\n",
    "ax.set_xticks([])\n",
    "ax.set_yticks([])\n",
    "fig.tight_layout()\n",
    "fig.set_size_inches(7, 7)\n"
   ]
  },
  {
   "cell_type": "code",
   "execution_count": null,
   "metadata": {},
   "outputs": [],
   "source": [
    "### compute precision and recall (may take a few minutes)\n",
    "df_precision, df_picked = analysis.compute_precision(df_picked, df_truth, verbose=verbose)\n",
    "df_precision.tail()\n"
   ]
  },
  {
   "cell_type": "code",
   "execution_count": null,
   "metadata": {},
   "outputs": [],
   "source": [
    "### plot boxplot for precision and recall\n",
    "fig, ax = plot_precision(df_precision, jobtypes)\n",
    "fig.set_size_inches([10,10])\n",
    "fig, ax = plot_recall(df_precision, jobtypes)\n",
    "fig.set_size_inches([10,10])\n"
   ]
  },
  {
   "cell_type": "code",
   "execution_count": null,
   "metadata": {},
   "outputs": [],
   "source": [
    "### alternatively, plot the precision and recall in the same plot\n",
    "fig, ax = plot_precision_and_recall(df_precision, jobtypes)\n"
   ]
  },
  {
   "cell_type": "code",
   "execution_count": null,
   "metadata": {},
   "outputs": [],
   "source": [
    "### plot f1-score\n",
    "fig, ax = plot_f1_score(df_precision, jobtypes)\n",
    "fig.set_size_inches(10,10)\n"
   ]
  },
  {
   "cell_type": "code",
   "execution_count": null,
   "metadata": {},
   "outputs": [],
   "source": [
    "### plot the picked particles, now with the TP and FP marked in green and red\n",
    "ugraph_index = 3 # which micrograph to plot\n",
    "metadata_index = 4 # which metadata file to plot\n",
    "\n",
    "fig, ax = label_micrograph_picked(df_picked, meta_files[meta_index], ugraph_index, config_dir, box_width=48, box_height=48, verbose=verbose)\n",
    "ax.set_xticks([])\n",
    "ax.set_yticks([])\n",
    "fig.tight_layout()\n",
    "fig.set_size_inches(7, 7)"
   ]
  },
  {
   "cell_type": "code",
   "execution_count": null,
   "metadata": {},
   "outputs": [],
   "source": [
    "### plot the distribution of the particles in the ugraphs in x, y, and z directions\n",
    "metadata_index = 0 # which metadata file to plot\n",
    "bin_width = [100, 100, 10] # bin width for x, y, z\n",
    "axis = [\"x\", \"y\", \"z\"]\n",
    "\n",
    "metadata_filename = meta_files[metadata_index]\n",
    "for a, bnwdth in zip(axis, bin_width):\n",
    "    fig, ax = plot_boundary_investigation(df_truth, df_picked, metadata_filename, bnwdth, axis=a)"
   ]
  },
  {
   "cell_type": "code",
   "execution_count": null,
   "metadata": {},
   "outputs": [],
   "source": [
    "df_overlap = analysis.compute_overlap(df_picked, df_truth, verbose=verbose)\n",
    "df_overlap.head()"
   ]
  },
  {
   "cell_type": "code",
   "execution_count": null,
   "metadata": {},
   "outputs": [],
   "source": [
    "### plot the overlap between the picked and truth particles\n",
    "metadata_index = 0 # which metadata file to plot. If None, all metadata files are plotted\n",
    "\n",
    "metadata_filename = meta_files[metadata_index]\n",
    "fig, ax = plot_overlap_investigation(df_overlap, None, jobtypes=jobtypes)\n",
    "ax.legend().set_visible(False)\n",
    "ax.set_xlim((0, 50))\n",
    "fig.tight_layout()\n"
   ]
  },
  {
   "cell_type": "code",
   "execution_count": null,
   "metadata": {},
   "outputs": [],
   "source": [
    "### plot the distribution of trajectory frames in a metadata file\n",
    "metadata_index = 1 # which metadata file to plot\n",
    "\n",
    "metadata_filename = meta_files[metadata_index]\n",
    "if isinstance(metadata_filename, list):\n",
    "    metadata_filename = metadata_filename[0]\n",
    "\n",
    "fig, ax = plot_frame_distribution(df_picked, metadata_filename, df_truth, particle_diameter, jobtypes)\n"
   ]
  },
  {
   "attachments": {},
   "cell_type": "markdown",
   "metadata": {},
   "source": [
    "### 2D classification"
   ]
  },
  {
   "cell_type": "code",
   "execution_count": null,
   "metadata": {},
   "outputs": [],
   "source": [
    "### plot the precision per class\n",
    "metadata_index = 0 # which metadata file to plot. Must have a class2D column\n",
    "\n",
    "metadata_filename = meta_files[metadata_index]\n",
    "if isinstance(metadata_filename, list):\n",
    "    metadata_filename = metadata_filename[0]\n",
    "\n",
    "fig, ax = plot_2Dclass_precision(df_picked, metadata_filename, jobtypes)\n"
   ]
  },
  {
   "cell_type": "code",
   "execution_count": null,
   "metadata": {},
   "outputs": [],
   "source": [
    "### plot the distribution of frames over the 2D classes\n",
    "metadata_index = 0 # which metadata file to plot. Must have a class2D column\n",
    "\n",
    "metadata_filename = meta_files[metadata_index]\n",
    "if isinstance(metadata_filename, list):\n",
    "    metadata_filename = metadata_filename[0]\n",
    "\n",
    "fig, ax = plot_2Dclasses_frames(df_picked, metadata_filename, binfactor=100)"
   ]
  },
  {
   "attachments": {},
   "cell_type": "markdown",
   "metadata": {},
   "source": [
    "### 3D alignment"
   ]
  },
  {
   "cell_type": "code",
   "execution_count": null,
   "metadata": {},
   "outputs": [],
   "source": [
    "### plot the distribution of particle poses in the picked and truth particles\n",
    "meta_index = 0\n",
    "\n",
    "metadata_filename = meta_files[meta_index]\n",
    "if isinstance(metadata_filename, list):\n",
    "    metadata_filename = metadata_filename[0]\n",
    "\n",
    "grid, vmin, vmax = plot_picked_pose_distribution(df_picked, metadata_filename)\n",
    "grid.fig.set_size_inches(14, 7)\n",
    "grid.fig.tight_layout()\n",
    "\n",
    "grid, _, _ = plot_true_pose_distribution(df_truth, vmin, vmax)\n",
    "grid.fig.set_size_inches(14, 7)\n",
    "grid.fig.tight_layout()\n"
   ]
  },
  {
   "cell_type": "code",
   "execution_count": null,
   "metadata": {},
   "outputs": [],
   "source": []
  }
 ],
 "metadata": {
  "kernelspec": {
   "display_name": "Python 3 (ipykernel)",
   "language": "python",
   "name": "python3"
  },
  "language_info": {
   "codemirror_mode": {
    "name": "ipython",
    "version": 3
   },
   "file_extension": ".py",
   "mimetype": "text/x-python",
   "name": "python",
   "nbconvert_exporter": "python",
   "pygments_lexer": "ipython3",
   "version": "3.10.4"
  },
  "vscode": {
   "interpreter": {
    "hash": "e5112804f8795a0ac2f26cc90b499f055a6ce0f1dffbe6381875821b4c148204"
   }
  }
 },
 "nbformat": 4,
 "nbformat_minor": 2
}
