{
 "cells": [
  {
   "cell_type": "code",
   "execution_count": 2,
   "metadata": {},
   "outputs": [],
   "source": [
    "import pickle\n",
    "import matplotlib.pyplot as plt"
   ]
  },
  {
   "cell_type": "markdown",
   "metadata": {},
   "source": [
    "# Loading Saved PKL for JS-D\n",
    "Checking all objects are present\n",
    "Checking the contents of all objects"
   ]
  },
  {
   "cell_type": "code",
   "execution_count": 3,
   "metadata": {},
   "outputs": [
    {
     "name": "stderr",
     "output_type": "stream",
     "text": [
      "/mnt/parakeet_storage5/roodmus_env/lib/python3.10/site-packages/tqdm/auto.py:22: TqdmWarning: IProgress not found. Please update jupyter and ipywidgets. See https://ipywidgets.readthedocs.io/en/stable/user_install.html\n",
      "  from .autonotebook import tqdm as notebook_tqdm\n"
     ]
    }
   ],
   "source": [
    "# load file from binary\n",
    "filename = \"/mnt/parakeet_storage5/roodmus/het_ensemblecomparison_superpose_pca_2_kmeans_2_vs_superpose_pca_2_kmeans_2_10confs/js_divergence.pkl\"\n",
    "jsd = pickle.load(open(filename, \"rb\"))"
   ]
  },
  {
   "cell_type": "code",
   "execution_count": 5,
   "metadata": {},
   "outputs": [
    {
     "name": "stdout",
     "output_type": "stream",
     "text": [
      "pkl_filepath, het_ensemblecomparison_superpose_pca_2_kmeans_2_vs_superpose_pca_2_kmeans_2_10confs/js_divergence.pkl\n",
      "dpi, 100\n",
      "pdf, False\n",
      "ces, [array([[0., 0., 0., 0.],\n",
      "       [0., 0., 0., 0.],\n",
      "       [0., 0., 0., 0.],\n",
      "       [0., 0., 0., 0.]])]\n",
      "ces_details, {'clustering': [<ClusterCollection with 1 clusters>]}\n",
      "ensembles_list, None\n",
      "ensembles_indices, {'het_metrics_pca_2_kmeans_2/superpose_pca___kmeans_2.pkl': {'0': 0, '1': 1}, 'het_metrics_pca_2_kmeans_2/superpose_pca___kmeans_2_copy.pkl': {'0': 2, '1': 3}}\n"
     ]
    }
   ],
   "source": [
    "# show all vars present\n",
    "for var in vars(jsd):\n",
    "    print(\"{}, {}\".format(var, getattr(jsd, var)))"
   ]
  },
  {
   "cell_type": "code",
   "execution_count": 6,
   "metadata": {},
   "outputs": [
    {
     "name": "stdout",
     "output_type": "stream",
     "text": [
      "\n",
      "manual print:\n",
      "\n",
      "\n",
      "jsd.pkl_filepath\n",
      "het_ensemblecomparison_superpose_pca_2_kmeans_2_vs_superpose_pca_2_kmeans_2_10confs/js_divergence.pkl\n",
      "\n",
      "jsd.dpi\n",
      "100\n",
      "\n",
      "jsd.pdf\n",
      "False\n",
      "\n",
      "jsd.ces\n",
      "[array([[0., 0., 0., 0.],\n",
      "       [0., 0., 0., 0.],\n",
      "       [0., 0., 0., 0.],\n",
      "       [0., 0., 0., 0.]])]\n",
      "\n",
      "jsd.details\n",
      "{'clustering': [<ClusterCollection with 1 clusters>]}\n",
      "\n",
      "jsd.ensembles_list\n",
      "None\n",
      "\n",
      "jsd.ensembles_indices\n",
      "{'het_metrics_pca_2_kmeans_2/superpose_pca___kmeans_2.pkl': {'0': 0, '1': 1}, 'het_metrics_pca_2_kmeans_2/superpose_pca___kmeans_2_copy.pkl': {'0': 2, '1': 3}}\n"
     ]
    }
   ],
   "source": [
    "# print all objects which should have been saved to \"jsd pkl\" file\n",
    "print(\"\\nmanual print:\\n\")\n",
    "print(\"\\njsd.pkl_filepath\")\n",
    "print(jsd.pkl_filepath)\n",
    "print(\"\\njsd.dpi\")\n",
    "print(jsd.dpi)\n",
    "print(\"\\njsd.pdf\")\n",
    "print(jsd.pdf)\n",
    "print(\"\\njsd.ces\")\n",
    "print(jsd.ces)\n",
    "print(\"\\njsd.details\")\n",
    "print(jsd.ces_details)\n",
    "print(\"\\njsd.ensembles_list\")\n",
    "print(jsd.ensembles_list)\n",
    "print(\"\\njsd.ensembles_indices\")\n",
    "print(jsd.ensembles_indices)"
   ]
  },
  {
   "cell_type": "markdown",
   "metadata": {},
   "source": []
  },
  {
   "cell_type": "code",
   "execution_count": 7,
   "metadata": {},
   "outputs": [
    {
     "ename": "AttributeError",
     "evalue": "'list' object has no attribute 'shape'",
     "output_type": "error",
     "traceback": [
      "\u001b[0;31m---------------------------------------------------------------------------\u001b[0m",
      "\u001b[0;31mAttributeError\u001b[0m                            Traceback (most recent call last)",
      "Cell \u001b[0;32mIn[7], line 2\u001b[0m\n\u001b[1;32m      1\u001b[0m \u001b[38;5;66;03m# make the plot\u001b[39;00m\n\u001b[0;32m----> 2\u001b[0m \u001b[43mjsd\u001b[49m\u001b[38;5;241;43m.\u001b[39;49m\u001b[43mplot_ces_results\u001b[49m\u001b[43m(\u001b[49m\u001b[43m)\u001b[49m\n",
      "File \u001b[0;32m/mnt/parakeet_storage5/roodmus/src/roodmus/heterogeneity/het_ensemblecomparison.py:364\u001b[0m, in \u001b[0;36mJSDivergence.plot_ces_results\u001b[0;34m(self)\u001b[0m\n\u001b[1;32m    358\u001b[0m     combined_label\u001b[38;5;241m.\u001b[39mappend(\n\u001b[1;32m    359\u001b[0m         cluster_workflow \u001b[38;5;241m+\u001b[39m \u001b[38;5;124m\"\u001b[39m\u001b[38;5;124m_ensemble_\u001b[39m\u001b[38;5;124m\"\u001b[39m \u001b[38;5;241m+\u001b[39m ensemble_index\n\u001b[1;32m    360\u001b[0m     )\n\u001b[1;32m    362\u001b[0m \u001b[38;5;66;03m# we now have labels to put on x,y axes (they are the same)\u001b[39;00m\n\u001b[1;32m    363\u001b[0m \u001b[38;5;66;03m# so can sns.heatmap plot\u001b[39;00m\n\u001b[0;32m--> 364\u001b[0m \u001b[38;5;28;01mfor\u001b[39;00m i, clustering_approach \u001b[38;5;129;01min\u001b[39;00m \u001b[38;5;28menumerate\u001b[39m(\u001b[38;5;28mself\u001b[39m\u001b[38;5;241m.\u001b[39mces):\n\u001b[1;32m    365\u001b[0m     plot_heatmap(\n\u001b[1;32m    366\u001b[0m         clustering_approach,\n\u001b[1;32m    367\u001b[0m         xlabels\u001b[38;5;241m=\u001b[39mcombined_label,\n\u001b[0;32m   (...)\u001b[0m\n\u001b[1;32m    374\u001b[0m         pdf\u001b[38;5;241m=\u001b[39m\u001b[38;5;28mself\u001b[39m\u001b[38;5;241m.\u001b[39mpdf,\n\u001b[1;32m    375\u001b[0m     )\n\u001b[1;32m    377\u001b[0m \u001b[38;5;66;03m# TODO alter heatmap to only compare one clustering alg to another\u001b[39;00m\n\u001b[1;32m    378\u001b[0m \u001b[38;5;66;03m# this may be useful but not necessarily required\u001b[39;00m\n",
      "File \u001b[0;32m/mnt/parakeet_storage5/roodmus/src/roodmus/heterogeneity/het_ensemblecomparison.py:412\u001b[0m, in \u001b[0;36mplot_heatmap\u001b[0;34m(data, xlabels, ylabels, filename, dpi, pdf)\u001b[0m\n\u001b[1;32m    399\u001b[0m \u001b[38;5;28;01mdef\u001b[39;00m \u001b[38;5;21mplot_heatmap\u001b[39m(\n\u001b[1;32m    400\u001b[0m     data: np\u001b[38;5;241m.\u001b[39mndarray,\n\u001b[1;32m    401\u001b[0m     xlabels: \u001b[38;5;28mlist\u001b[39m[\u001b[38;5;28mstr\u001b[39m],\n\u001b[0;32m   (...)\u001b[0m\n\u001b[1;32m    405\u001b[0m     pdf: \u001b[38;5;28mbool\u001b[39m \u001b[38;5;241m=\u001b[39m \u001b[38;5;28;01mTrue\u001b[39;00m,\n\u001b[1;32m    406\u001b[0m ):\n\u001b[1;32m    407\u001b[0m \u001b[38;5;250m    \u001b[39m\u001b[38;5;124;03m\"\"\"Plot a heatmap for a square numpy array. Must has 2 dimensions\u001b[39;00m\n\u001b[1;32m    408\u001b[0m \n\u001b[1;32m    409\u001b[0m \u001b[38;5;124;03m    Args:\u001b[39;00m\n\u001b[1;32m    410\u001b[0m \u001b[38;5;124;03m        data (np.ndarray): _description_\u001b[39;00m\n\u001b[1;32m    411\u001b[0m \u001b[38;5;124;03m        filename (str): _description_\u001b[39;00m\n\u001b[0;32m--> 412\u001b[0m \u001b[38;5;124;03m    \"\"\"\u001b[39;00m\n\u001b[1;32m    413\u001b[0m     \u001b[38;5;28;01massert\u001b[39;00m \u001b[38;5;28mlen\u001b[39m(data\u001b[38;5;241m.\u001b[39mshape) \u001b[38;5;241m==\u001b[39m \u001b[38;5;241m2\u001b[39m\n\u001b[1;32m    415\u001b[0m     \u001b[38;5;66;03m# plot the heatmap\u001b[39;00m\n",
      "\u001b[0;31mAttributeError\u001b[0m: 'list' object has no attribute 'shape'"
     ]
    }
   ],
   "source": [
    "# make the plot\n",
    "# jsd.plot_ces_results()"
   ]
  },
  {
   "cell_type": "code",
   "execution_count": null,
   "metadata": {},
   "outputs": [],
   "source": []
  }
 ],
 "metadata": {
  "kernelspec": {
   "display_name": "Python 3",
   "language": "python",
   "name": "python3"
  },
  "language_info": {
   "codemirror_mode": {
    "name": "ipython",
    "version": 3
   },
   "file_extension": ".py",
   "mimetype": "text/x-python",
   "name": "python",
   "nbconvert_exporter": "python",
   "pygments_lexer": "ipython3",
   "version": "3.10.4"
  }
 },
 "nbformat": 4,
 "nbformat_minor": 2
}
