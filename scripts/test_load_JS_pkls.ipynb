{
 "cells": [
  {
   "cell_type": "code",
   "execution_count": 1,
   "metadata": {},
   "outputs": [],
   "source": [
    "import pickle\n",
    "import numpy as np\n",
    "import matplotlib.pyplot as plt"
   ]
  },
  {
   "cell_type": "markdown",
   "metadata": {},
   "source": [
    "# Loading Saved PKL for JS-D\n",
    "Checking all objects are present\n",
    "Checking the contents of all objects"
   ]
  },
  {
   "cell_type": "code",
   "execution_count": 2,
   "metadata": {},
   "outputs": [
    {
     "name": "stderr",
     "output_type": "stream",
     "text": [
      "/mnt/parakeet_storage5/roodmus_env/lib/python3.10/site-packages/tqdm/auto.py:22: TqdmWarning: IProgress not found. Please update jupyter and ipywidgets. See https://ipywidgets.readthedocs.io/en/stable/user_install.html\n",
      "  from .autonotebook import tqdm as notebook_tqdm\n"
     ]
    }
   ],
   "source": [
    "# load file from binary\n",
    "# filename = \"/mnt/parakeet_storage5/roodmus/het_ensemblecomparison_superpose_pca_2_kmeans_2_vs_superpose_pca_2_kmeans_2_10confs/js_divergence.pkl\"\n",
    "filename = \"/mnt/parakeet_storage5/roodmus/het_ensemblecomparison_superpose_pca___kmeans_5_vs_superpose_pca___kmeans_2_subset/js_divergence.pkl\"\n",
    "jsd = pickle.load(open(filename, \"rb\"))"
   ]
  },
  {
   "cell_type": "code",
   "execution_count": 3,
   "metadata": {},
   "outputs": [
    {
     "name": "stdout",
     "output_type": "stream",
     "text": [
      "pkl_filepath, het_ensemblecomparison_superpose_pca___kmeans_5_vs_superpose_pca___kmeans_2_subset/js_divergence.pkl\n",
      "dpi, 100\n",
      "pdf, False\n",
      "ces, [[array([[0.        , 0.69314718, 0.69314718, 0.69314718, 0.        ,\n",
      "        0.69314718, 0.14334207],\n",
      "       [0.69314718, 0.        , 0.56193467, 0.69314718, 0.69314718,\n",
      "        0.35262177, 0.69314718],\n",
      "       [0.69314718, 0.56193467, 0.        , 0.56193467, 0.69314718,\n",
      "        0.05486904, 0.59659835],\n",
      "       [0.69314718, 0.69314718, 0.56193467, 0.        , 0.69314718,\n",
      "        0.47784995, 0.30206331],\n",
      "       [0.        , 0.69314718, 0.69314718, 0.69314718, 0.        ,\n",
      "        0.69314718, 0.14334207],\n",
      "       [0.69314718, 0.35262177, 0.05486904, 0.47784995, 0.69314718,\n",
      "        0.        , 0.54357978],\n",
      "       [0.14334207, 0.69314718, 0.59659835, 0.30206331, 0.14334207,\n",
      "        0.54357978, 0.        ]])], [array([[0.        , 0.69314718, 0.69314718, 0.69314718, 0.        ,\n",
      "        0.69314718, 0.08070986],\n",
      "       [0.69314718, 0.        , 0.69314718, 0.69314718, 0.69314718,\n",
      "        0.30206331, 0.69314718],\n",
      "       [0.69314718, 0.69314718, 0.        , 0.41021906, 0.69314718,\n",
      "        0.15095786, 0.54461564],\n",
      "       [0.69314718, 0.69314718, 0.41021906, 0.        , 0.69314718,\n",
      "        0.56193467, 0.41021906],\n",
      "       [0.        , 0.69314718, 0.69314718, 0.69314718, 0.        ,\n",
      "        0.69314718, 0.08070986],\n",
      "       [0.69314718, 0.30206331, 0.15095786, 0.56193467, 0.69314718,\n",
      "        0.        , 0.61281359],\n",
      "       [0.08070986, 0.69314718, 0.54461564, 0.41021906, 0.08070986,\n",
      "        0.61281359, 0.        ]])]]\n",
      "ces_details, [{'clustering': [<ClusterCollection with 4 clusters>]}, {'clustering': [<ClusterCollection with 4 clusters>]}]\n",
      "args, Namespace(config_dir='/mnt/parakeet_storage4/MicrographGeneration/DESRES-Trajectory_sarscov2-11021571-all-glueCA/DESRES-Trajectory_sarscov2-11021571-all-glueCA_270000_particles', meta_file='/mnt/parakeet_storage6/MapReconstruction/latent_datasets/cryodrgn_latents_20231116_DESRES-Trajectory_sarscov2-11021571-all-glueCA/run_data.star', conformations_dir='/mnt/parakeet_storage4/ConformationSampling/DESRES-Trajectory_sarscov2-11021571-all-glueCA/even_sampling_8334', clusters=['het_metrics_1000_pca_10_kmeans_5clusters/superpose_pca___kmeans_5.pkl', 'het_metrics_1000_pca_10_kmeans_2clusters/superpose_pca___kmeans_2.pkl'], clusters_source=['MD', 'MD'], js=False, hd=False, verbose=True, output_dir='het_ensemblecomparison_superpose_pca___kmeans_5_vs_superpose_pca___kmeans_2_subset', digits=6, file_ext='.pdb', timestep=1.0, time_offset=0.0, save_rmsd=True, rmsd_precalc='', preference=-10.0, estimate_error=False, bootstrapping_samples=10, ncores=8, select='name CA', dpi=100, pdf=False, pkl_universes=False, n_confs=1000, contiguous_confs=True, first_conf=0, overwrite=True, ensemble_subset_size=100, n_subsets=2, func=<function main at 0x7f9908c90280>)\n",
      "ensembles_list, None\n",
      "ensembles_indices, {'het_metrics_1000_pca_10_kmeans_5clusters/superpose_pca___kmeans_5.pkl': {'0': 0, '1': 1, '2': 2, '3': 3, '4': 4}, 'het_metrics_1000_pca_10_kmeans_2clusters/superpose_pca___kmeans_2.pkl': {'0': 5, '1': 6}}\n"
     ]
    }
   ],
   "source": [
    "# show all vars present\n",
    "for var in vars(jsd):\n",
    "    print(\"{}, {}\".format(var, getattr(jsd, var)))"
   ]
  },
  {
   "cell_type": "code",
   "execution_count": 4,
   "metadata": {},
   "outputs": [
    {
     "name": "stdout",
     "output_type": "stream",
     "text": [
      "\n",
      "manual print:\n",
      "\n",
      "\n",
      "jsd.pkl_filepath\n",
      "het_ensemblecomparison_superpose_pca___kmeans_5_vs_superpose_pca___kmeans_2_subset/js_divergence.pkl\n",
      "\n",
      "jsd.dpi\n",
      "100\n",
      "\n",
      "jsd.pdf\n",
      "False\n",
      "\n",
      "jsd.ces\n",
      "[[array([[0.        , 0.69314718, 0.69314718, 0.69314718, 0.        ,\n",
      "        0.69314718, 0.14334207],\n",
      "       [0.69314718, 0.        , 0.56193467, 0.69314718, 0.69314718,\n",
      "        0.35262177, 0.69314718],\n",
      "       [0.69314718, 0.56193467, 0.        , 0.56193467, 0.69314718,\n",
      "        0.05486904, 0.59659835],\n",
      "       [0.69314718, 0.69314718, 0.56193467, 0.        , 0.69314718,\n",
      "        0.47784995, 0.30206331],\n",
      "       [0.        , 0.69314718, 0.69314718, 0.69314718, 0.        ,\n",
      "        0.69314718, 0.14334207],\n",
      "       [0.69314718, 0.35262177, 0.05486904, 0.47784995, 0.69314718,\n",
      "        0.        , 0.54357978],\n",
      "       [0.14334207, 0.69314718, 0.59659835, 0.30206331, 0.14334207,\n",
      "        0.54357978, 0.        ]])], [array([[0.        , 0.69314718, 0.69314718, 0.69314718, 0.        ,\n",
      "        0.69314718, 0.08070986],\n",
      "       [0.69314718, 0.        , 0.69314718, 0.69314718, 0.69314718,\n",
      "        0.30206331, 0.69314718],\n",
      "       [0.69314718, 0.69314718, 0.        , 0.41021906, 0.69314718,\n",
      "        0.15095786, 0.54461564],\n",
      "       [0.69314718, 0.69314718, 0.41021906, 0.        , 0.69314718,\n",
      "        0.56193467, 0.41021906],\n",
      "       [0.        , 0.69314718, 0.69314718, 0.69314718, 0.        ,\n",
      "        0.69314718, 0.08070986],\n",
      "       [0.69314718, 0.30206331, 0.15095786, 0.56193467, 0.69314718,\n",
      "        0.        , 0.61281359],\n",
      "       [0.08070986, 0.69314718, 0.54461564, 0.41021906, 0.08070986,\n",
      "        0.61281359, 0.        ]])]]\n",
      "\n",
      "jsd.details\n",
      "[{'clustering': [<ClusterCollection with 4 clusters>]}, {'clustering': [<ClusterCollection with 4 clusters>]}]\n",
      "\n",
      "jsd.ensembles_list\n",
      "None\n",
      "\n",
      "jsd.ensembles_indices\n",
      "{'het_metrics_1000_pca_10_kmeans_5clusters/superpose_pca___kmeans_5.pkl': {'0': 0, '1': 1, '2': 2, '3': 3, '4': 4}, 'het_metrics_1000_pca_10_kmeans_2clusters/superpose_pca___kmeans_2.pkl': {'0': 5, '1': 6}}\n"
     ]
    }
   ],
   "source": [
    "# print all objects which should have been saved to \"jsd pkl\" file\n",
    "print(\"\\nmanual print:\\n\")\n",
    "print(\"\\njsd.pkl_filepath\")\n",
    "print(jsd.pkl_filepath)\n",
    "print(\"\\njsd.dpi\")\n",
    "print(jsd.dpi)\n",
    "print(\"\\njsd.pdf\")\n",
    "print(jsd.pdf)\n",
    "print(\"\\njsd.ces\")\n",
    "print(jsd.ces)\n",
    "print(\"\\njsd.details\")\n",
    "print(jsd.ces_details)\n",
    "print(\"\\njsd.ensembles_list\")\n",
    "print(jsd.ensembles_list)\n",
    "print(\"\\njsd.ensembles_indices\")\n",
    "print(jsd.ensembles_indices)"
   ]
  },
  {
   "cell_type": "markdown",
   "metadata": {},
   "source": []
  },
  {
   "cell_type": "code",
   "execution_count": 5,
   "metadata": {},
   "outputs": [
    {
     "ename": "NameError",
     "evalue": "name 'np' is not defined",
     "output_type": "error",
     "traceback": [
      "\u001b[0;31m---------------------------------------------------------------------------\u001b[0m",
      "\u001b[0;31mNameError\u001b[0m                                 Traceback (most recent call last)",
      "Cell \u001b[0;32mIn[5], line 3\u001b[0m\n\u001b[1;32m      1\u001b[0m \u001b[38;5;66;03m# make the plot\u001b[39;00m\n\u001b[1;32m      2\u001b[0m \u001b[38;5;66;03m# jsd.plot_ces_results()\u001b[39;00m\n\u001b[0;32m----> 3\u001b[0m \u001b[38;5;28mprint\u001b[39m(\u001b[43mnp\u001b[49m\u001b[38;5;241m.\u001b[39marray(jsd\u001b[38;5;241m.\u001b[39mces),shape)\n",
      "\u001b[0;31mNameError\u001b[0m: name 'np' is not defined"
     ]
    }
   ],
   "source": [
    "# make the plot\n",
    "# jsd.plot_ces_results()\n",
    "print(np.array(jsd.ces),shape)"
   ]
  },
  {
   "cell_type": "code",
   "execution_count": null,
   "metadata": {},
   "outputs": [],
   "source": []
  }
 ],
 "metadata": {
  "kernelspec": {
   "display_name": "Python 3",
   "language": "python",
   "name": "python3"
  },
  "language_info": {
   "codemirror_mode": {
    "name": "ipython",
    "version": 3
   },
   "file_extension": ".py",
   "mimetype": "text/x-python",
   "name": "python",
   "nbconvert_exporter": "python",
   "pygments_lexer": "ipython3",
   "version": "3.10.4"
  }
 },
 "nbformat": 4,
 "nbformat_minor": 2
}
