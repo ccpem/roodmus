{
 "cells": [
  {
   "cell_type": "code",
   "execution_count": null,
   "metadata": {},
   "outputs": [],
   "source": [
    "import pickle\n",
    "import numpy as np\n",
    "import matplotlib.pyplot as plt"
   ]
  },
  {
   "cell_type": "markdown",
   "metadata": {},
   "source": [
    "# Loading Saved PKL for JS-D\n",
    "Checking all objects are present\n",
    "Checking the contents of all objects"
   ]
  },
  {
   "cell_type": "code",
   "execution_count": null,
   "metadata": {},
   "outputs": [],
   "source": [
    "# load file from binary\n",
    "# filename = \"/mnt/parakeet_storage5/roodmus/het_ensemblecomparison_superpose_pca_2_kmeans_2_vs_superpose_pca_2_kmeans_2_10confs/js_divergence.pkl\"\n",
    "# filename = \"/mnt/parakeet_storage5/roodmus/het_ensemblecomparison_superpose_pca___kmeans_5_vs_superpose_pca___kmeans_2_subset/js_divergence.pkl\"\n",
    "# filename = \"/mnt/parakeet_storage5/roodmus/het_ensemblecomparison_superpose_pca___kmeans_5_vs_superpose_pca___kmeans_2_samplenoncont/js_divergence.pkl\"\n",
    "# filename = \"/mnt/parakeet_storage5/roodmus/het_ensemblecomparison_superpose_pca___kmeans_2_vs_pca___kmeans_2_latentsamplenoncont/js_divergence.pkl\"\n",
    "filename = \"/mnt/parakeet_storage5/roodmus/het_ensemblecomparison_superpose_pca___kmeans_5_vs_pca___kmeans_5_latentsamplenoncont/js_divergence.pkl\"\n",
    "jsd = pickle.load(open(filename, \"rb\"))"
   ]
  },
  {
   "cell_type": "code",
   "execution_count": null,
   "metadata": {},
   "outputs": [],
   "source": [
    "# show all vars present\n",
    "for var in vars(jsd):\n",
    "    print(\"{}, {}\".format(var, getattr(jsd, var)))"
   ]
  },
  {
   "cell_type": "code",
   "execution_count": null,
   "metadata": {},
   "outputs": [],
   "source": [
    "# print all objects which should have been saved to \"jsd pkl\" file\n",
    "print(\"\\nmanual print:\\n\")\n",
    "print(\"\\njsd.pkl_filepath\")\n",
    "print(jsd.pkl_filepath)\n",
    "print(\"\\njsd.dpi\")\n",
    "print(jsd.dpi)\n",
    "print(\"\\njsd.pdf\")\n",
    "print(jsd.pdf)\n",
    "print(\"\\njsd.ces\")\n",
    "print(jsd.ces)\n",
    "print(\"\\njsd.ces_details\")\n",
    "print(jsd.ces_details)\n",
    "print(\"\\njsd.dres\")\n",
    "print(jsd.dres)\n",
    "print(\"\\njsd.dres_details\")\n",
    "print(jsd.dres_details)\n",
    "print(\"\\njsd.ensembles_list\")\n",
    "print(jsd.ensembles_list)\n",
    "print(\"\\njsd.ensembles_indices\")\n",
    "print(jsd.ensembles_indices)"
   ]
  },
  {
   "cell_type": "code",
   "execution_count": null,
   "metadata": {},
   "outputs": [],
   "source": [
    "print(\"\\nces average:{}\".format(jsd.ces_avg))\n",
    "\n",
    "print(\"\\nces stddev:{}\".format(jsd.ces_stddev))"
   ]
  },
  {
   "cell_type": "code",
   "execution_count": null,
   "metadata": {},
   "outputs": [],
   "source": [
    "print(\"\\ndres average:{}\".format(jsd.dres_avg))\n",
    "\n",
    "print(\"\\ndres stddev:{}\".format(jsd.dres_stddev))"
   ]
  },
  {
   "cell_type": "markdown",
   "metadata": {},
   "source": []
  },
  {
   "cell_type": "code",
   "execution_count": null,
   "metadata": {},
   "outputs": [],
   "source": [
    "from roodmus.heterogeneity.het_ensemblecomparison import plot_heatmap\n",
    "import os\n",
    "\n",
    "cw = []\n",
    "cw_ensemble_index = []\n",
    "ensembles_list_index = []\n",
    "\n",
    "for k1, v1 in jsd.ensembles_indices.items():\n",
    "    for k2, v2 in v1.items():\n",
    "        cw.append(k1)\n",
    "        cw_ensemble_index.append(k2)\n",
    "        ensembles_list_index.append(v2)\n",
    "\n",
    "# now we can rearrange the lists by the indices\n",
    "# to get labels in the same order as the ces matrix indices\n",
    "cw = [cw[i] for i in ensembles_list_index]\n",
    "cw_ensemble_index = [\n",
    "    cw_ensemble_index[i] for i in ensembles_list_index\n",
    "]\n",
    "\n",
    "# lets create labels that combine cw and ensemble index\n",
    "combined_label = []\n",
    "for cluster_workflow, ensemble_index in zip(cw, cw_ensemble_index):\n",
    "    combined_label.append(\n",
    "        cluster_workflow + \"_ensemble_\" + ensemble_index\n",
    "    )\n",
    "\n",
    "# make the plot\n",
    "# jsd.plot_ces_results()\n",
    "print(np.array(jsd.ces_avg).shape)\n",
    "\n",
    "# top_dir = \"/mnt/parakeet_storage5/roodmus\"\n",
    "# pkl_dir = os.path.join(top_dir, jsd.pkl_filepath)\n",
    "\n",
    "plot_heatmap(\n",
    "    jsd.ces_avg[0],\n",
    "    xlabels=combined_label,\n",
    "    ylabels=combined_label,\n",
    "    filename=os.path.join(\n",
    "        \"/mnt/parakeet_storage5/roodmus\",\n",
    "        os.path.join(\n",
    "            os.path.dirname(jsd.pkl_filepath),\n",
    "            \"ces_jsd_avg.png\",\n",
    "        ),\n",
    "    ),\n",
    "    dpi=jsd.dpi,\n",
    "    pdf=jsd.pdf,\n",
    ")\n",
    "\n",
    "plot_heatmap(\n",
    "    jsd.ces_stddev[0],\n",
    "    xlabels=combined_label,\n",
    "    ylabels=combined_label,\n",
    "    filename=os.path.join(\n",
    "        \"/mnt/parakeet_storage5/roodmus\",\n",
    "        os.path.join(\n",
    "            os.path.dirname(jsd.pkl_filepath),\n",
    "            \"ces_jsd_stddev.png\",\n",
    "        ),\n",
    "    ),\n",
    "    dpi=jsd.dpi,\n",
    "    pdf=jsd.pdf,\n",
    ")\n",
    "\n",
    "plot_heatmap(\n",
    "    jsd.dres_avg[0],\n",
    "    xlabels=combined_label,\n",
    "    ylabels=combined_label,\n",
    "    filename=os.path.join(\n",
    "        \"/mnt/parakeet_storage5/roodmus\",\n",
    "        os.path.join(\n",
    "            os.path.dirname(jsd.pkl_filepath),\n",
    "            \"dres_jsd_avg.png\",\n",
    "        ),\n",
    "    ),\n",
    "    dpi=jsd.dpi,\n",
    "    pdf=jsd.pdf,\n",
    ")\n",
    "\n",
    "plot_heatmap(\n",
    "    jsd.dres_stddev[0],\n",
    "    xlabels=combined_label,\n",
    "    ylabels=combined_label,\n",
    "    filename=os.path.join(\n",
    "        \"/mnt/parakeet_storage5/roodmus\",\n",
    "        os.path.join(\n",
    "            os.path.dirname(jsd.pkl_filepath),\n",
    "            \"dres_jsd_stddev.png\",\n",
    "        ),\n",
    "    ),\n",
    "    dpi=jsd.dpi,\n",
    "    pdf=jsd.pdf,\n",
    ")"
   ]
  },
  {
   "cell_type": "code",
   "execution_count": null,
   "metadata": {},
   "outputs": [],
   "source": []
  }
 ],
 "metadata": {
  "kernelspec": {
   "display_name": "Python 3",
   "language": "python",
   "name": "python3"
  },
  "language_info": {
   "codemirror_mode": {
    "name": "ipython",
    "version": 3
   },
   "file_extension": ".py",
   "mimetype": "text/x-python",
   "name": "python",
   "nbconvert_exporter": "python",
   "pygments_lexer": "ipython3",
   "version": "3.10.4"
  }
 },
 "nbformat": 4,
 "nbformat_minor": 2
}
