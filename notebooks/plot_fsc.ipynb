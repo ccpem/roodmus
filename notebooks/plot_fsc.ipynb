{
 "cells": [
  {
   "attachments": {},
   "cell_type": "markdown",
   "metadata": {},
   "source": [
    "# plot the FSC curve, given two halfmaps"
   ]
  },
  {
   "cell_type": "code",
   "execution_count": null,
   "metadata": {},
   "outputs": [],
   "source": [
    "# imports\n",
    "from emmer.ndimage.fsc.fsc_utils import calculate_fsc\n",
    "from emmer.ndimage.radial_profile.compute_radial_profile import compute_radial_profile\n",
    "import mrcfile\n",
    "import numpy as np\n",
    "import matplotlib.pyplot as plt\n",
    "import seaborn as sns\n",
    "import pandas as pd\n"
   ]
  },
  {
   "cell_type": "code",
   "execution_count": null,
   "metadata": {},
   "outputs": [],
   "source": [
    "# load data\n",
    "\n",
    "halfmap_1 = \"/export/disk2/home1/tnw-cryosparc/processing/P51/J521/J521_004_volume_map_half_A.mrc\"\n",
    "halfmap_2 = \"/export/disk2/home1/tnw-cryosparc/processing/P51/J521/J521_004_volume_map_half_B.mrc\"\n",
    "mask = \"/export/disk2/home1/tnw-cryosparc/processing/P51/J521/J521_004_volume_mask_fsc.mrc\"\n",
    "global_resolution = 2.9\n",
    "\n",
    "# load maps and calculate fsc\n",
    "halfmap_1_mrc = mrcfile.open(halfmap_1)\n",
    "halfmap_2_mrc = mrcfile.open(halfmap_2)\n",
    "mask_mrc = mrcfile.open(mask)\n",
    "\n",
    "halfmap_1_data = halfmap_1_mrc.data\n",
    "halfmap_2_data = halfmap_2_mrc.data\n",
    "mask_data = mask_mrc.data\n",
    "\n",
    "# apply mask\n",
    "halfmap_1_data = halfmap_1_data * mask_data\n",
    "halfmap_2_data = halfmap_2_data * mask_data\n",
    "\n",
    "fft_1 = np.fft.rfftn(halfmap_1_data)\n",
    "fft_2 = np.fft.rfftn(halfmap_2_data)\n",
    "\n",
    "profile, radii = compute_radial_profile(halfmap_1_data, return_indices=True)\n",
    "freq, fsc, _ = calculate_fsc(fft_1, fft_2, radii, halfmap_1_data.shape)\n",
    "\n",
    "# make a data frame out of the fsc data\n",
    "fsc_df = pd.DataFrame({\"freq\": freq, \"fsc\": fsc, \"profile\": profile, \"log_profile\": np.log10(profile), \"freq2\": np.array(freq)**2})\n"
   ]
  },
  {
   "cell_type": "code",
   "execution_count": null,
   "metadata": {},
   "outputs": [],
   "source": [
    "# plot the data\n",
    "fig, ax = plt.subplots(figsize=(3.5, 3.5))\n",
    "sns.lineplot(data=fsc_df, x=\"freq\", y=\"fsc\", ax=ax)\n",
    "ax.set_xlabel(\"Spatial Frequency ($\\AA^{-1}$)\", fontsize=16)\n",
    "ax.set_ylabel(\"FSC\", fontsize=16)\n",
    "# add line at 0.143\n",
    "ax.axhline(0.143, color=\"black\", linestyle=\"--\")\n",
    "# add line at 0.5\n",
    "ax.axhline(0.5, color=\"black\", linestyle=\"-.\")\n",
    "# add vertical line at the global resolution\n",
    "ax.axvline(1/global_resolution, color=\"red\", linestyle=\":\")\n",
    "# increase tick size\n",
    "ax.tick_params(axis=\"both\", which=\"major\", labelsize=14)\n",
    "# save the figure\n",
    "plt.savefig(\"figures/J521_fsc.pdf\", bbox_inches=\"tight\")\n"
   ]
  },
  {
   "cell_type": "code",
   "execution_count": null,
   "metadata": {},
   "outputs": [],
   "source": [
    "# also plot the radial profile\n",
    "fig, ax = plt.subplots(figsize=(3.5, 3.5))\n",
    "sns.lineplot(data=fsc_df, x=\"freq2\", y=\"log_profile\", ax=ax)\n",
    "ax.set_xlabel(\"Spatial Frequency ($\\AA^{-2}$)\", fontsize=16)\n",
    "ax.set_ylabel(\"log(F)\", fontsize=16)\n",
    "# ax_res = ax.twinx()\n",
    "# ax_res.set_xticks(ax.get_xticks())\n",
    "# ax_res.set_xbound(ax.get_xbound())\n",
    "# ax_res.set_xticklabels([round(1/np.sqrt(x),1) for x in ax.get_xticks()])\n",
    "# increase tick size\n",
    "ax.tick_params(axis=\"both\", which=\"major\", labelsize=14)\n",
    "\n",
    "# save the figure\n",
    "plt.savefig(\"figures/J521_radial_profile.pdf\", bbox_inches=\"tight\")"
   ]
  },
  {
   "cell_type": "code",
   "execution_count": null,
   "metadata": {},
   "outputs": [],
   "source": []
  }
 ],
 "metadata": {
  "kernelspec": {
   "display_name": "roodmus",
   "language": "python",
   "name": "python3"
  },
  "language_info": {
   "codemirror_mode": {
    "name": "ipython",
    "version": 3
   },
   "file_extension": ".py",
   "mimetype": "text/x-python",
   "name": "python",
   "nbconvert_exporter": "python",
   "pygments_lexer": "ipython3",
   "version": "3.10.4"
  },
  "orig_nbformat": 4
 },
 "nbformat": 4,
 "nbformat_minor": 2
}
