{
 "cells": [
  {
   "attachments": {},
   "cell_type": "markdown",
   "metadata": {},
   "source": [
    "## Notebook for the development of analysis tools for heterogeneous reconstructions made with CryoSPARC or CryoDRGN\n"
   ]
  },
  {
   "cell_type": "code",
   "execution_count": 1,
   "metadata": {},
   "outputs": [],
   "source": [
    "### imports\n",
    "# general\n",
    "import os\n",
    "import numpy as np\n",
    "import pandas as pd\n",
    "\n",
    "# roodmus\n",
    "from importlib import reload\n",
    "import roodmus.analysis.utils\n",
    "reload(roodmus.analysis.utils)\n",
    "from roodmus.analysis.utils import load_data\n",
    "# from roodmus.analysis.plot_heterogeneous_reconstruction import (\n",
    "# )"
   ]
  },
  {
   "cell_type": "code",
   "execution_count": null,
   "metadata": {},
   "outputs": [],
   "source": [
    "### data loading\n",
    "### steered MD data set for the Covid-19 spike protein (PDB id: 6xm5)\n",
    "config_dir = \"/home/mjoosten1/projects/roodmus/data/6xm5_steered_Roodmus_2/mrc/\"\n",
    "meta_file = \"data/6xm5_steered_Roodmus_2/cryoSPARC/J577_passthrough_particles.cs\"\n",
    "jobtypes = {\n",
    "    \"data/6xm5_steered_Roodmus_2/cryoSPARC/J526_passthrough_particles.cs\": \"Flexible refinement\",\n",
    "    \"data/6xm5_steered_Roodmus_2/cryoSPARC/J577_passthrough_particles.cs\": \"Flexible refinement\",\n",
    "}\n",
    "latent_file = \"data/6xm5_steered_Roodmus_2/cryoSPARC/J577_latents_022224.cs\"\n",
    "\n",
    "particle_diameter = 100 # approximate particle diameter in Angstroms\n",
    "ugraph_shape = (4000, 4000) # shape of the micrograph in pixels. Only needs to be given if the metadata file is a .star file\n",
    "verbose = True\n",
    "ignore_missing_files = True\n",
    "enable_tqdm = True\n",
    "\n",
    "analysis = load_data(meta_file, config_dir, particle_diameter, ugraph_shape=ugraph_shape, verbose=verbose, enable_tqdm=enable_tqdm, ignore_missing_files=ignore_missing_files) # creates the class\n"
   ]
  },
  {
   "cell_type": "code",
   "execution_count": null,
   "metadata": {},
   "outputs": [],
   "source": [
    "### turn the loaded data into a pandas dataframe\n",
    "df_picked = pd.DataFrame(analysis.results_picking)\n",
    "df_truth = pd.DataFrame(analysis.results_truth)\n",
    "df_picked.tail()\n"
   ]
  },
  {
   "cell_type": "code",
   "execution_count": null,
   "metadata": {},
   "outputs": [],
   "source": [
    "df_precision, df_picked = analysis.compute_precision(df_picked, df_truth, verbose=verbose)\n",
    "df_precision.tail()"
   ]
  },
  {
   "cell_type": "code",
   "execution_count": null,
   "metadata": {},
   "outputs": [],
   "source": [
    "# add the latent space coordinates to the dataframe\n",
    "import roodmus.analysis.utils\n",
    "reload(roodmus.analysis.utils)\n",
    "from roodmus.analysis.utils import IO\n",
    "latent_space, ndim = IO.get_latents_cs(latent_file)\n",
    "\n",
    "for i in range(ndim):\n",
    "    df_picked[\"latent_{}\".format(i)] = latent_space[:, i]\n",
    "\n",
    "df_picked.tail()"
   ]
  },
  {
   "cell_type": "code",
   "execution_count": null,
   "metadata": {},
   "outputs": [],
   "source": [
    "# plot the latent space\n",
    "import roodmus.analysis.plot_heterogeneous_reconstruction\n",
    "reload(roodmus.analysis.plot_heterogeneous_reconstruction)\n",
    "from roodmus.analysis.plot_heterogeneous_reconstruction import (\n",
    "    plot_latent_space\n",
    ")\n",
    "\n",
    "grid = plot_latent_space(\n",
    "    df_picked,\n",
    "    ndim,\n",
    "    dim_1=0,\n",
    "    dim_2=1,\n",
    "    pca=True,\n",
    "    color_by=\"TP\",\n",
    "    hexbin=False,\n",
    "    palette=\"Set1\",\n",
    ")"
   ]
  },
  {
   "cell_type": "code",
   "execution_count": null,
   "metadata": {},
   "outputs": [],
   "source": [
    "# hexbin plot\n",
    "grid = sns.jointplot(\n",
    "    x=\"PC1\",\n",
    "    y=\"PC2\",\n",
    "    data=df,\n",
    "    kind=\"hex\",\n",
    "    color=\"k\",\n",
    "    gridsize=55,\n",
    "    bins=\"log\",\n",
    "    cmap=\"coolwarm\",\n",
    "    marginal_kws=dict(bins=100, fill=False),\n",
    ")\n",
    "\n",
    "grid = sns.jointplot(\n",
    "    x=\"latent_0\",\n",
    "    y=\"latent_1\",\n",
    "    data=df_picked,\n",
    "    kind=\"hex\",\n",
    "    color=\"k\",\n",
    "    gridsize=55,\n",
    "    bins=\"log\",\n",
    "    cmap=\"coolwarm\",\n",
    "    marginal_kws=dict(bins=100, fill=False),\n",
    ")\n",
    "\n"
   ]
  },
  {
   "cell_type": "code",
   "execution_count": null,
   "metadata": {},
   "outputs": [],
   "source": [
    "# scatter plot coloured by TP\n",
    "grid = sns.jointplot(\n",
    "    x=\"PC1\",\n",
    "    y=\"PC2\",\n",
    "    data=df,\n",
    "    hue=\"TP\",\n",
    "    s=4,\n",
    "    alpha=0.5,\n",
    "    palette=[]\n",
    ")\n"
   ]
  },
  {
   "cell_type": "code",
   "execution_count": null,
   "metadata": {},
   "outputs": [],
   "source": [
    "# scatter plot coloured by class2D\n",
    "grid = sns.jointplot(\n",
    "    x=\"PC1\",\n",
    "    y=\"PC2\",\n",
    "    data=df,\n",
    "    hue=\"class2D\",\n",
    "    s=4,\n",
    "    alpha=0.5,\n",
    ")"
   ]
  },
  {
   "cell_type": "code",
   "execution_count": null,
   "metadata": {},
   "outputs": [],
   "source": []
  }
 ],
 "metadata": {
  "kernelspec": {
   "display_name": "Python 3 (ipykernel)",
   "language": "python",
   "name": "python3"
  },
  "language_info": {
   "codemirror_mode": {
    "name": "ipython",
    "version": 3
   },
   "file_extension": ".py",
   "mimetype": "text/x-python",
   "name": "python",
   "nbconvert_exporter": "python",
   "pygments_lexer": "ipython3",
   "version": "3.10.4"
  },
  "vscode": {
   "interpreter": {
    "hash": "e5112804f8795a0ac2f26cc90b499f055a6ce0f1dffbe6381875821b4c148204"
   }
  }
 },
 "nbformat": 4,
 "nbformat_minor": 2
}
