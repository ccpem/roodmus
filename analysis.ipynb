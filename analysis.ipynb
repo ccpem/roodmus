{
 "cells": [
  {
   "cell_type": "markdown",
   "metadata": {},
   "source": [
    "## Notebook showcasing the various options in Roodmus for analysis and visualisations\n",
    "Each analysis functionality aims to compare output from a Single Particle Reconstruction workflow in RELION or CryoSPARC to the ground-truth information available from the generated Parakeet config files. The functions return a dictionary that can be converted to a pandas data frame for easy plotting and further analysis. This notebook allows the user as much flexibility as possible in creating their own analyses.\n",
    "\n",
    "The provided tools include:\n",
    "1. comparison of estimated and ground-truth CTF parameters\n",
    "2. particle picking analysis"
   ]
  },
  {
   "cell_type": "code",
   "execution_count": 1,
   "metadata": {},
   "outputs": [],
   "source": [
    "### imports\n",
    "# general\n",
    "import os\n",
    "import mrcfile\n",
    "import numpy as np\n",
    "import pandas as pd\n",
    "import matplotlib.pyplot as plt\n",
    "import seaborn as sns\n",
    "# roodmus\n",
    "from roodmus.analysis.analyse_ctf import ctf_estimation\n",
    "from roodmus.analysis.plot_ctf import plot_CTF, plot_defocus_scatter\n",
    "from roodmus.analysis.analyse_picking import particle_picking\n",
    "from roodmus.analysis.plot_picking import label_micrograph_picked, label_micrograph_truth, label_micrograph_truth_and_picked, plot_precision, plot_recall, plot_boundary_investigation, plot_overlap_investigation\n",
    "# from roodmus.analysis.analyse_alignment import alignment_3D\n",
    "# from roodmus.analysis.plot_alignment import \n"
   ]
  },
  {
   "cell_type": "markdown",
   "metadata": {},
   "source": [
    "### CTF estimation\n"
   ]
  },
  {
   "cell_type": "code",
   "execution_count": null,
   "metadata": {},
   "outputs": [],
   "source": [
    "### variables\n",
    "config_dir = \"/home/mjoosten1/projects/roodmus/data/6xm5_steered_Roodmus_1/mrc/\"\n",
    "meta_file = \"/home/mjoosten1/projects/roodmus/data/6xm5_steered_Roodmus_1/cryoSPARC/J293_picked_particles.cs\"\n",
    "# meta_file = \"data/6xm5_steered_Roodmus_1/RELION/job006_topaz.star\"\n",
    "plot_dir = \"/home/mjoosten1/projects/roodmus/data/6xm5_steered_Roodmus_1/figures/\"\n",
    "\n",
    "verbose = True"
   ]
  },
  {
   "cell_type": "code",
   "execution_count": null,
   "metadata": {},
   "outputs": [],
   "source": [
    "### analyse CTF estimation\n",
    "analysis_ctf = ctf_estimation(meta_file, config_dir, verbose=verbose)\n",
    "df_ctf = pd.DataFrame(analysis_ctf.results)\n",
    "df_ctf"
   ]
  },
  {
   "cell_type": "code",
   "execution_count": null,
   "metadata": {},
   "outputs": [],
   "source": [
    "### scatter plot of the estimated vs. the true defocus values\n",
    "fig, ax = plot_defocus_scatter(df_ctf)\n",
    "plt.rcParams[\"font.size\"] = 20\n"
   ]
  },
  {
   "cell_type": "code",
   "execution_count": null,
   "metadata": {},
   "outputs": [],
   "source": [
    "### plot the CTF estimation for a single micrograph\n",
    "ugraph_index = 3 # which micrograph to plot\n",
    "\n",
    "fig, ax = plot_CTF(df_ctf, config_dir, ugraph_index)"
   ]
  },
  {
   "cell_type": "code",
   "execution_count": null,
   "metadata": {},
   "outputs": [],
   "source": [
    "### plot the CTF for the particle with the largest defocus error\n",
    "delta_defocus = 0\n",
    "for i, row in df_ctf.iterrows():\n",
    "    defocusU = row[\"defocusU\"]\n",
    "    defocus_truth = row[\"defocus_truth\"]\n",
    "    if np.abs(defocusU - defocus_truth) > delta_defocus:\n",
    "        delta_defocus = np.abs(defocusU - defocus_truth)\n",
    "        max_error_index = int(row[\"ugraph_filename\"].strip(\".mrc\"))\n",
    "\n",
    "fig, ax = plot_CTF(df_ctf, config_dir, max_error_index)\n"
   ]
  },
  {
   "cell_type": "markdown",
   "metadata": {},
   "source": [
    "### Particle picking"
   ]
  },
  {
   "cell_type": "code",
   "execution_count": null,
   "metadata": {},
   "outputs": [],
   "source": [
    "### variables\n",
    "config_dir = \"/home/mjoosten1/projects/roodmus/data/6xm5_steered_Roodmus_1/mrc/\"\n",
    "meta_files = [\n",
    "#     \"/home/mjoosten1/projects/roodmus/data/6xm5_steered_Roodmus_1/cryoSPARC/J293_picked_particles.cs\",\n",
    "#     \"/home/mjoosten1/projects/roodmus/data/6xm5_steered_Roodmus_1/cryoSPARC/J297_passthrough_particles_selected.cs\",\n",
    "#     \"/home/mjoosten1/projects/roodmus/data/6xm5_steered_Roodmus_1/cryoSPARC/J298_picked_particles.cs\",\n",
    "#     \"/home/mjoosten1/projects/roodmus/data/6xm5_steered_Roodmus_1/cryoSPARC/J429_passthrough_particles_selected.cs\",\n",
    "    \"/home/mjoosten1/projects/roodmus/data/6xm5_steered_Roodmus_1/cryoSPARC/J433_passthrough_particles.cs\",\n",
    "]\n",
    "\n",
    "jobtypes = {\n",
    "    \"/home/mjoosten1/projects/roodmus/data/6xm5_steered_Roodmus_1/cryoSPARC/J293_picked_particles.cs\": \"blob picking\",\n",
    "    \"/home/mjoosten1/projects/roodmus/data/6xm5_steered_Roodmus_1/cryoSPARC/J297_passthrough_particles_selected.cs\": \"2D classification\",\n",
    "    \"/home/mjoosten1/projects/roodmus/data/6xm5_steered_Roodmus_1/cryoSPARC/J298_picked_particles.cs\": \"template picking\",\n",
    "    \"/home/mjoosten1/projects/roodmus/data/6xm5_steered_Roodmus_1/cryoSPARC/J429_passthrough_particles_selected.cs\": \"2D classification 2\",\n",
    "    \"/home/mjoosten1/projects/roodmus/data/6xm5_steered_Roodmus_1/cryoSPARC/J433_passthrough_particles.cs\": \"3D classification\",   \n",
    "}\n",
    "\n",
    "# meta_files = [\n",
    "#     \"data/6xm5_steered_Roodmus_1/RELION/job015_manual.star\",\n",
    "#     \"data/6xm5_steered_Roodmus_1/RELION/job006_topaz.star\",\n",
    "#     \"data/6xm5_steered_Roodmus_1/RELION/job008_subset_selection.star\",\n",
    "# ]\n",
    "\n",
    "# jobtypes = {\n",
    "#     \"data/6xm5_steered_Roodmus_1/RELION/job015_manual.star\": \"manual picking\",\t\n",
    "#     \"data/6xm5_steered_Roodmus_1/RELION/job006_topaz.star\": \"topaz picking\",\n",
    "#     \"data/6xm5_steered_Roodmus_1/RELION/job008_subset_selection.star\": \"2D classification\",\n",
    "# }\n",
    "\n",
    "particle_diameter = 100 # approximate particle diameter in Angstroms\n",
    "ugraph_shape = (4000, 4000) # shape of the micrograph in pixels. Only needs to be given if the metadata file is a .star file\n",
    "verbose = True"
   ]
  },
  {
   "cell_type": "code",
   "execution_count": null,
   "metadata": {},
   "outputs": [],
   "source": [
    "### analyse the particle picking\n",
    "print(meta_files)\n",
    "print(config_dir)\n",
    "for i, meta_file in enumerate(meta_files):\n",
    "    print(os.path.basename(meta_file))\n",
    "    print(meta_file.endswith(\".cs\"))\n",
    "    if i == 0:\n",
    "        analysis_picking = particle_picking(meta_file, config_dir, particle_diameter, ugraph_shape=ugraph_shape, verbose=verbose) # creates the class\n",
    "    else:\n",
    "        analysis_picking.compute(meta_file, config_dir, verbose=verbose) # updates the class with the next metadata file\n"
   ]
  },
  {
   "cell_type": "code",
   "execution_count": null,
   "metadata": {},
   "outputs": [],
   "source": [
    "df_picked = pd.DataFrame(analysis_picking.results_picking)\n",
    "df_truth = pd.DataFrame(analysis_picking.results_truth)\n",
    "df_picked"
   ]
  },
  {
   "cell_type": "code",
   "execution_count": null,
   "metadata": {},
   "outputs": [],
   "source": [
    "### plot the picked particles\n",
    "ugraph_index = 0 # which micrograph to plot\n",
    "metadata_index = 0 # which metadata file to plot\n",
    "\n",
    "fig, ax = label_micrograph_picked(df_picked.groupby(\"metadata_filename\").get_group(meta_files[metadata_index]), ugraph_index, config_dir, box_width=48, box_height=48, verbose=verbose)\n",
    "ax.set_xticks([])\n",
    "ax.set_yticks([])\n",
    "fig.tight_layout()\n",
    "fig.set_size_inches(7, 7)\n"
   ]
  },
  {
   "cell_type": "code",
   "execution_count": null,
   "metadata": {},
   "outputs": [],
   "source": [
    "### plot the truth particles\n",
    "ugraph_index = 3 # which micrograph to plot\n",
    "\n",
    "fig, ax = label_micrograph_truth(df_truth, ugraph_index, config_dir, box_width=32, box_height=32, verbose=verbose)\n",
    "ax.set_xticks([])\n",
    "ax.set_yticks([])\n",
    "fig.tight_layout()\n",
    "fig.set_size_inches(7, 7)\n"
   ]
  },
  {
   "cell_type": "code",
   "execution_count": null,
   "metadata": {},
   "outputs": [],
   "source": [
    "### plot the truth and picked particles\n",
    "ugraph_index = 3 # which micrograph to plot\n",
    "metadata_index = 0 # which metadata file to plot\n",
    "\n",
    "fig, ax = label_micrograph_truth_and_picked(df_picked.groupby(\"metadata_filename\").get_group(meta_files[metadata_index]),\n",
    "                                             df_truth, ugraph_index, config_dir, box_width=48, box_height=48, verbose=verbose)\n",
    "ax.set_xticks([])\n",
    "ax.set_yticks([])\n",
    "fig.tight_layout()\n",
    "fig.set_size_inches(7, 7)\n"
   ]
  },
  {
   "cell_type": "code",
   "execution_count": null,
   "metadata": {},
   "outputs": [],
   "source": [
    "### compute precision and recall\n",
    "df_precision, df_picked = analysis_picking.compute_precision(df_picked, df_truth, verbose=verbose)\n",
    "df_precision\n"
   ]
  },
  {
   "cell_type": "code",
   "execution_count": null,
   "metadata": {},
   "outputs": [],
   "source": [
    "### plot boxplot for precision and recall\n",
    "fig, ax = plot_precision(df_precision, jobtypes)\n",
    "fig.set_size_inches([10,10])\n",
    "fig, ax = plot_recall(df_precision, jobtypes)\n",
    "fig.set_size_inches([10,10])\n"
   ]
  },
  {
   "cell_type": "code",
   "execution_count": null,
   "metadata": {},
   "outputs": [],
   "source": [
    "### alternatively, plot the precision and recall in the same plot\n",
    "df = df_precision.melt(id_vars=[\"metadata_filename\", \"ugraph_filename\", \"defocus\", \"TP\", \"FP\", \"FN\", \"multiplicity\", \"num_particles_picked\", \"num_particles_truth\", \"class2D\"])\n",
    "\n",
    "plt.rcParams[\"font.size\"] = 20\n",
    "fig, ax = plt.subplots(figsize=(10,10))\n",
    "sns.boxplot(x=\"metadata_filename\", y=\"value\", data=df, ax=ax, fliersize=0, palette=\"RdYlBu\", hue=\"variable\")\n",
    "ax.set_ylabel(\"\")\n",
    "ax.set_xlabel(\"\")\n",
    "# change the xtix labels to the jobtypes\n",
    "ax.set_xticklabels([jobtypes[meta_file] for meta_file in meta_files])\n",
    "plt.setp(ax.get_xticklabels(), rotation=45, ha=\"right\", rotation_mode=\"anchor\")\n",
    "# add legend below axis\n",
    "ax.legend().set_visible(False)\n",
    "handles, labels = ax.get_legend_handles_labels()\n",
    "fig.legend(handles, labels, loc='lower center', ncol=1, bbox_to_anchor=(1.1, 0.85))\n",
    "fig.tight_layout()\n",
    "\n"
   ]
  },
  {
   "cell_type": "code",
   "execution_count": null,
   "metadata": {},
   "outputs": [],
   "source": [
    "### plot the picked particles, now with the TP and FP marked in green and red\n",
    "ugraph_index = 10 # which micrograph to plot\n",
    "metadata_index = 0 # which metadata file to plot\n",
    "\n",
    "fig, ax = label_micrograph_picked(df_picked.groupby(\"metadata_filename\").get_group(meta_files[metadata_index]), ugraph_index, config_dir, box_width=48, box_height=48, verbose=verbose)\n",
    "ax.set_xticks([])\n",
    "ax.set_yticks([])\n",
    "fig.tight_layout()\n",
    "fig.set_size_inches(7, 7)"
   ]
  },
  {
   "cell_type": "code",
   "execution_count": null,
   "metadata": {},
   "outputs": [],
   "source": [
    "### plot the distribution of the particles in the ugraphs in x, y, and z directions\n",
    "metadata_index = 0 # which metadata file to plot\n",
    "bin_width = [100, 100, 10] # bin width for x, y, z\n",
    "axis = [\"x\", \"y\", \"z\"]\n",
    "\n",
    "metadata_filename = meta_files[metadata_index]\n",
    "for a, bnwdth in zip(axis, bin_width):\n",
    "    fig, ax = plot_boundary_investigation(df_truth, df_picked, metadata_filename, bnwdth, axis=a)"
   ]
  },
  {
   "cell_type": "code",
   "execution_count": null,
   "metadata": {},
   "outputs": [],
   "source": [
    "df_overlap = analysis_picking.compute_overlap(df_picked, df_truth, verbose=verbose)\n",
    "df_overlap"
   ]
  },
  {
   "cell_type": "code",
   "execution_count": null,
   "metadata": {},
   "outputs": [],
   "source": [
    "### plot the overlap between the picked and truth particles\n",
    "metadata_index = 0 # which metadata file to plot. If None, all metadata files are plotted\n",
    "\n",
    "metadata_filename = meta_files[metadata_index]\n",
    "fig, ax = plot_overlap_investigation(df_overlap, metadata_filename, jobtypes=jobtypes)\n"
   ]
  },
  {
   "cell_type": "code",
   "execution_count": null,
   "metadata": {},
   "outputs": [],
   "source": [
    "### plot the distribution of trajectory frames in a metadata file\n",
    "metadata_index = 0 # which metadata file to plot\n",
    "df_picked[\"closest_pdb_index\"] = df_picked[\"closest_pdb\"].apply(lambda x: int(x.split(\"_\")[-1].split(\".\")[0]))\n",
    "# set the closest_pdb_index to np.nan if the particle is not closer to a truth particle thatn the particle diameter\n",
    "df_picked.loc[df_picked[\"closest_dist\"] > particle_diameter, \"closest_pdb_index\"] = np.nan\n",
    "df_truth[\"pdb_index\"] = df_truth[\"pdb_filename\"].apply(lambda x: int(x.split(\"_\")[-1].split(\".\")[0]))\n",
    "\n",
    "plt.rcParams[\"font.size\"] = 20\n",
    "fig, ax = plt.subplots(figsize = (10, 10))\n",
    "sns.histplot(df_picked.groupby(\"metadata_filename\").get_group(meta_files[metadata_index])[\"closest_pdb_index\"], ax=ax, bins=100, kde=True)\n",
    "sns.histplot(df_truth[\"pdb_index\"], ax=ax, bins=100, kde=True, color=\"red\", alpha=0.2)\n",
    "ax.set_xlabel(\"frame index\")\n",
    "ax.set_ylabel(\"count\")\n",
    "ax.set_title(jobtypes[meta_files[metadata_index]])\n",
    "fig.tight_layout()\n",
    "fig.legend([\"picked\", \"truth\"], loc='lower center', ncol=1, bbox_to_anchor=(1.1, 0.85))\n",
    "\n"
   ]
  },
  {
   "cell_type": "markdown",
   "metadata": {},
   "source": [
    "### 3D alignment"
   ]
  },
  {
   "cell_type": "code",
   "execution_count": null,
   "metadata": {},
   "outputs": [],
   "source": [
    "### variables\n",
    "config_dir = \"data/6xm5_steered_Roodmus_1/mrc/\"\n",
    "meta_file = \"data/6xm5_steered_Roodmus_1/cryoSPARC/J433_005_particles.cs\" # must contain the 3D particle poses\n",
    "\n",
    "verbose = True"
   ]
  },
  {
   "cell_type": "code",
   "execution_count": null,
   "metadata": {},
   "outputs": [],
   "source": [
    "from importlib import reload\n",
    "import roodmus.analysis.analyse_alignment\n",
    "reload(roodmus.analysis.analyse_alignment)\n",
    "from roodmus.analysis.analyse_alignment import alignment_3D\n",
    "import roodmus.analysis.utils\n",
    "reload(roodmus.analysis.utils)\n",
    "\n",
    "import pandas as pd"
   ]
  },
  {
   "cell_type": "code",
   "execution_count": null,
   "metadata": {},
   "outputs": [],
   "source": [
    "analysis_alignment = alignment_3D(meta_file, config_dir, load_all_configs=True, verbose=verbose) # creates the class\n",
    "df_alignment_estimated = pd.DataFrame(analysis_alignment.results_picking)\n",
    "df_alignment_truth = pd.DataFrame(analysis_alignment.results_truth)\n",
    "df_alignment_truth"
   ]
  },
  {
   "cell_type": "code",
   "execution_count": null,
   "metadata": {},
   "outputs": [],
   "source": [
    "### plot the alignment\n",
    "grid = sns.jointplot(x=\"euler1\", y=\"euler2\", data=df_alignment_estimated, kind=\"hex\", color=\"k\", gridsize=50, bins=\"log\", cmap=\"viridis\")\n",
    "grid.ax_joint.set_xlabel(\"Euler 1\")\n",
    "grid.ax_joint.set_ylabel(\"Euler 2\")\n",
    "grid.fig.set_size_inches(14, 7)\n",
    "# adjust the x and y ticks to show multiples of pi\n",
    "grid.ax_joint.set_xticks([-np.pi, -3/4*np.pi, -np.pi/2, -np.pi/4, 0, np.pi/4, np.pi/2, 3/4*np.pi, np.pi])\n",
    "grid.ax_joint.set_xticklabels([\"$-\\pi$\", \"$-3/4\\pi$\", \"$-\\pi/2$\", \"$-\\pi/4$\", \"$0$\", \"$\\pi/4$\", \"$\\pi/2$\", \"$3/4\\pi$\", \"$\\pi$\"])\n",
    "grid.ax_joint.set_yticks([-np.pi/2, -np.pi/4, 0, np.pi/4, np.pi/2])\n",
    "grid.ax_joint.set_yticklabels([\"$-\\pi/2$\", \"$-\\pi/4$\", \"$0$\", \"$\\pi/4$\", \"$\\pi/2$\"])\n",
    "\n",
    "# repeat for the true particles\n",
    "grid = sns.jointplot(x=\"euler1\", y=\"euler2\", data=df_alignment_truth, kind=\"hex\", color=\"k\", gridsize=50, bins=\"log\", cmap=\"viridis\")\n",
    "grid.ax_joint.set_xlabel(\"Euler 1\")\n",
    "grid.ax_joint.set_ylabel(\"Euler 2\")\n",
    "grid.fig.set_size_inches(14, 7)\n",
    "# adjust the x and y ticks to show multiples of pi\n",
    "grid.ax_joint.set_xticks([-np.pi, -3/4*np.pi, -np.pi/2, -np.pi/4, 0, np.pi/4, np.pi/2, 3/4*np.pi, np.pi])\n",
    "grid.ax_joint.set_xticklabels([\"$-\\pi$\", \"$-3/4\\pi$\", \"$-\\pi/2$\", \"$-\\pi/4$\", \"$0$\", \"$\\pi/4$\", \"$\\pi/2$\", \"$3/4\\pi$\", \"$\\pi$\"])\n",
    "grid.ax_joint.set_yticks([-np.pi/2, -np.pi/4, 0, np.pi/4, np.pi/2])\n",
    "grid.ax_joint.set_yticklabels([\"$-\\pi/2$\", \"$-\\pi/4$\", \"$0$\", \"$\\pi/4$\", \"$\\pi/2$\"])\n",
    "\n"
   ]
  },
  {
   "cell_type": "markdown",
   "metadata": {},
   "source": [
    "### Misc investigations"
   ]
  },
  {
   "cell_type": "code",
   "execution_count": null,
   "metadata": {},
   "outputs": [],
   "source": []
  }
 ],
 "metadata": {
  "kernelspec": {
   "display_name": "Python 3 (ipykernel)",
   "language": "python",
   "name": "python3"
  },
  "language_info": {
   "codemirror_mode": {
    "name": "ipython",
    "version": 3
   },
   "file_extension": ".py",
   "mimetype": "text/x-python",
   "name": "python",
   "nbconvert_exporter": "python",
   "pygments_lexer": "ipython3",
   "version": "3.10.4"
  },
  "vscode": {
   "interpreter": {
    "hash": "bf50011314047e7d0fb9c3ba3588efc82c1bf6233ca55a321ad132265846e946"
   }
  }
 },
 "nbformat": 4,
 "nbformat_minor": 2
}
