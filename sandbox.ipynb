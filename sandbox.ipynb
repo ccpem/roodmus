{
 "cells": [
  {
   "cell_type": "code",
   "execution_count": 1,
   "metadata": {},
   "outputs": [],
   "source": [
    "import mrcfile\n",
    "import yaml\n"
   ]
  },
  {
   "cell_type": "code",
   "execution_count": null,
   "metadata": {},
   "outputs": [],
   "source": [
    "def _relativistic_lambda(voltage):\n",
    "    # returns the relativistic wavelength in Angstrom\n",
    "    # voltage should be in volts\n",
    "    return 12.2643247 / np.sqrt(voltage * (1 + voltage * 0.978466e-6))\n",
    "\n",
    "def simulate_CTF_curve(defocus, amp, Cs, B, voltage, k):\n",
    "    wavelength = _relativistic_lambda(voltage)\n",
    "    gamma = (-np.pi / 2) * Cs * np.power(wavelength, 3) * np.power(\n",
    "        k, 4\n",
    "    ) + np.pi * wavelength * defocus * np.power(k, 2)\n",
    "    CTF = -1 * np.sin(amp + gamma)\n",
    "    if B != 0:\n",
    "        CTF *= np.exp(-B * k**2)\n",
    "\n",
    "    return CTF\n"
   ]
  },
  {
   "cell_type": "code",
   "execution_count": null,
   "metadata": {},
   "outputs": [],
   "source": [
    "mrc_file = \"/home/mjoosten1/projects/roodmus/testing_data/plot_ctf/mrc_dir/000000.mrc\"\n",
    "config_file = \"/home/mjoosten1/projects/roodmus/testing_data/plot_ctf/config_dir/000000.yaml\"\n",
    "\n",
    "\n",
    "\n",
    "\n"
   ]
  }
 ],
 "metadata": {
  "kernelspec": {
   "display_name": "roodmus",
   "language": "python",
   "name": "python3"
  },
  "language_info": {
   "codemirror_mode": {
    "name": "ipython",
    "version": 3
   },
   "file_extension": ".py",
   "mimetype": "text/x-python",
   "name": "python",
   "nbconvert_exporter": "python",
   "pygments_lexer": "ipython3",
   "version": "3.10.13"
  }
 },
 "nbformat": 4,
 "nbformat_minor": 2
}
