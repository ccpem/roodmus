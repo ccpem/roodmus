{
 "cells": [
  {
   "cell_type": "markdown",
   "metadata": {},
   "source": [
    "# Plotting functions for supplementary figure 5 of the manuscript\n",
    "In this figure we show a hexbin plot of the latent space of the cryoDRGN training of the SARS-CoV-2 spike protein dataset\n"
   ]
  },
  {
   "cell_type": "code",
   "execution_count": null,
   "metadata": {},
   "outputs": [],
   "source": [
    "# imports\n",
    "import os\n",
    "import pandas as pd\n",
    "\n",
    "# roodmus\n",
    "from roodmus.analysis.utils import load_data\n",
    "from roodmus.heterogeneity.hetRec import HetRec\n",
    "from roodmus.heterogeneity.plot_heterogeneous_reconstruction import plot_latent_space_hexbin\n"
   ]
  },
  {
   "cell_type": "markdown",
   "metadata": {},
   "source": [
    "## panel A\n",
    "hexbin plot of the latent space for the covid spike trimer cryodrgn training"
   ]
  },
  {
   "cell_type": "code",
   "execution_count": null,
   "metadata": {},
   "outputs": [],
   "source": [
    "# data loading for DE-Shaw covid spike partially open set\n",
    "project_dir = \"/tudelft/mjoosten1/staff-umbrella/ajlab/MJ/projects/Roodmus/data/DE-Shaw_covid_spike_protein/20231116_DESRES-Trajectory_sarscov2-11021571-all-glueCA\"\n",
    "ugraph_dir = \"/tudelft/mjoosten1/staff-umbrella/ajlab/MJ/projects/Roodmus/data/DE-Shaw_covid_spike_protein/DESRES-Trajectory_sarscov2-11021571-all-glueCA\"\n",
    "config_dir = os.path.join(ugraph_dir, \"Micrographs\")\n",
    "figures_dir = os.path.join(project_dir, \"figures\")\n",
    "meta_file = os.path.join(project_dir, \"cryoDRGN\", \"run_data.star\")\n",
    "jobtypes = {\n",
    "     os.path.join(project_dir, \"cryoDRGN\", \"run_data.star\"): \"cryoDRGN\",\n",
    "}\n",
    "latent_file =  os.path.join(project_dir, \"cryoDRGN\", \"train_320\", \"z.19.pkl\")\n",
    "\n",
    "particle_diameter = 100 # approximate particle diameter in Angstroms\n",
    "ugraph_shape = (4000, 4000) # shape of the micrograph in pixels. Only needs to be given if the metadata file is a .star file\n",
    "verbose = True\n",
    "ignore_missing_files = True\n",
    "enable_tqdm = True\n",
    "\n",
    "analysis = load_data(meta_file, config_dir, particle_diameter, ugraph_shape=ugraph_shape, verbose=verbose, enable_tqdm=enable_tqdm, ignore_missing_files=ignore_missing_files) # creates the class\n",
    "df_picked = pd.DataFrame(analysis.results_picking)\n",
    "df_truth = pd.DataFrame(analysis.results_truth)\n",
    "df_precision, df_picked = analysis.compute_precision(df_picked, df_truth, verbose=verbose)\n",
    "\n",
    "df_picked, ndim = HetRec.add_latent_space_coordinates(\n",
    "    latent_file=latent_file,\n",
    "    df_picked=df_picked,\n",
    ")\n",
    "df_picked, pca = HetRec.compute_PCA(\n",
    "    df_picked=df_picked,\n",
    "    ndim=ndim,\n",
    ")\n",
    "\n",
    "df_picked.tail()"
   ]
  },
  {
   "cell_type": "code",
   "execution_count": null,
   "metadata": {},
   "outputs": [],
   "source": [
    "# make a hexbin plot of the latent space\n",
    "dim1=0\n",
    "dim2=1\n",
    "\n",
    "grid = plot_latent_space_hexbin(\n",
    "    df_picked,\n",
    "    dim_1=dim1,\n",
    "    dim_2=dim2,\n",
    "    pca=True,\n",
    "    palette=\"coolwarm\"\n",
    ")\n",
    "grid.set_axis_labels(f\"PCA{dim1}\", f\"PCA{dim2}\", fontsize=16)\n",
    "grid.figure.get_axes()[0].tick_params(labelsize=14)\n",
    "grid.figure.get_axes()[0].set_xlim((-12, 12))\n",
    "grid.figure.get_axes()[0].set_ylim((-12, 12))\n",
    "\n",
    "# grid.savefig(os.path.join(figures_dir, f\"{os.path.basename(latent_file)}_pca_{dim1}_{dim2}_hexbin.pdf\"), bbox_inches=\"tight\")\n",
    "print(f\"saved figure to {os.path.join(figures_dir, f'{os.path.basename(latent_file)}_pca_{dim1}_{dim2}_hexbin.pdf')}\")\n"
   ]
  },
  {
   "cell_type": "markdown",
   "metadata": {},
   "source": [
    "## panel D\n",
    "hexbin plot of the latent space for the covid RTC"
   ]
  },
  {
   "cell_type": "code",
   "execution_count": null,
   "metadata": {},
   "outputs": [],
   "source": [
    "### data loading covid RTC DE-Shaw data set\n",
    "project_dir = \"/home/mjoosten1/projects/roodmus/data/DE-Shaw_covid_RTC/20240124_DESRES-Trajectory_sarscov2-13795965-no-water-movies\"\n",
    "config_dir = os.path.join(project_dir, \"Movies\")\n",
    "figures_dir = os.path.join(project_dir, \"figures\")\n",
    "meta_file = os.path.join(project_dir, \"cryoDRGN\", \"run_data.star\")\n",
    "jobtypes = {\n",
    "    os.path.join(project_dir, \"cryoDRGN\", \"run_data.star\"): \"cryoDRGN\",\n",
    "}\n",
    "latent_file = os.path.join(project_dir, \"cryoDRGN\", \"train_320\", \"z.24.pkl\")\n",
    "\n",
    "particle_diameter = 100 # approximate particle diameter in Angstroms\n",
    "ugraph_shape = (4000, 4000) # shape of the micrograph in pixels. Only needs to be given if the metadata file is a .star file\n",
    "verbose = True\n",
    "ignore_missing_files = True\n",
    "enable_tqdm = True\n",
    "\n",
    "analysis = load_data(meta_file, config_dir, particle_diameter, ugraph_shape=ugraph_shape, verbose=verbose, enable_tqdm=enable_tqdm, ignore_missing_files=ignore_missing_files) # creates the class\n",
    "df_picked = pd.DataFrame(analysis.results_picking)\n",
    "df_truth = pd.DataFrame(analysis.results_truth)\n",
    "df_precision, df_picked = analysis.compute_precision(df_picked, df_truth, verbose=verbose)\n",
    "\n",
    "df_picked, ndim = HetRec.add_latent_space_coordinates(\n",
    "    latent_file=latent_file,\n",
    "    df_picked=df_picked,\n",
    ")\n",
    "df_picked, pca = HetRec.compute_PCA(\n",
    "    df_picked=df_picked,\n",
    "    ndim=ndim,\n",
    ")\n",
    "df_picked.tail()\n"
   ]
  },
  {
   "cell_type": "code",
   "execution_count": null,
   "metadata": {},
   "outputs": [],
   "source": [
    "# make a hexbin plot of the latent space\n",
    "dim1=0\n",
    "dim2=1\n",
    "\n",
    "grid = plot_latent_space_hexbin(\n",
    "    df_picked,\n",
    "    dim_1=dim1,\n",
    "    dim_2=dim2,\n",
    "    pca=True,\n",
    "    palette=\"coolwarm\"\n",
    ")\n",
    "grid.set_axis_labels(f\"PCA{dim1}\", f\"PCA{dim2}\", fontsize=16)\n",
    "grid.figure.get_axes()[0].tick_params(labelsize=14)\n",
    "grid.figure.get_axes()[0].set_xlim((-12, 12))\n",
    "grid.figure.get_axes()[0].set_ylim((-12, 12))\n",
    "\n",
    "grid.savefig(os.path.join(figures_dir, f\"{os.path.basename(latent_file)}_pca_{dim1}_{dim2}_hexbin.pdf\"), bbox_inches=\"tight\")\n",
    "print(f\"saved figure to {os.path.join(figures_dir, f'{os.path.basename(latent_file)}_pca_{dim1}_{dim2}_hexbin.pdf')}\")\n"
   ]
  },
  {
   "cell_type": "code",
   "execution_count": null,
   "metadata": {},
   "outputs": [],
   "source": []
  }
 ],
 "metadata": {
  "kernelspec": {
   "display_name": "roodmus",
   "language": "python",
   "name": "python3"
  },
  "language_info": {
   "codemirror_mode": {
    "name": "ipython",
    "version": 3
   },
   "file_extension": ".py",
   "mimetype": "text/x-python",
   "name": "python",
   "nbconvert_exporter": "python",
   "pygments_lexer": "ipython3",
   "version": "3.10.13"
  }
 },
 "nbformat": 4,
 "nbformat_minor": 2
}
