{
 "cells": [
  {
   "cell_type": "markdown",
   "metadata": {},
   "source": [
    "# computing correlation matrix between 3D classes and frames of the MD trajectory"
   ]
  },
  {
   "cell_type": "markdown",
   "metadata": {},
   "source": [
    "## making an ensemble of structures and aligning them to the first volume\n",
    "This part of the script pulls 50 structures from the pdb_dir that stores the pdb file frames of the MD trajectory and bundles them in a single .pdb file. Then the ensemble can be aligned to the first 3D class in ChimeraX by using the \"fit volume\" tool.\n",
    "\n",
    "From the aligned ensemble, a mask should be made in ChimeraX using the molmap command."
   ]
  },
  {
   "cell_type": "code",
   "execution_count": 27,
   "metadata": {},
   "outputs": [],
   "source": [
    "# imports\n",
    "import os\n",
    "import numpy as np\n",
    "import gemmi\n",
    "import mrcfile\n",
    "import warnings\n",
    "\n",
    "from tqdm import tqdm\n",
    "from emmer.pdb.convert.convert_pdb_to_map import convert_pdb_to_map\n",
    "from emmer.ndimage.filter.low_pass_filter import low_pass_filter\n"
   ]
  },
  {
   "cell_type": "code",
   "execution_count": 28,
   "metadata": {},
   "outputs": [],
   "source": [
    "# functions\n",
    "def filter_gemmi_model(model_gemmi, remove_sidechains=False):\n",
    "    # remove ligand residues and all sidechain atoms\n",
    "    list_of_residue_names = [\n",
    "        \"F2A\", \"H2A\", \"NLM\", \"NM5\", \"NM7\", \"NME\"\n",
    "    ]\n",
    "    new_model_gemmi = gemmi.Model(model_gemmi.name)\n",
    "    for chn in model_gemmi:\n",
    "        new_chain_gemmi = gemmi.Chain(chn.name)\n",
    "        for res in chn:\n",
    "            if res.name not in list_of_residue_names:\n",
    "                new_res_gemmi = gemmi.Residue()\n",
    "                new_res_gemmi.name = res.name\n",
    "                \n",
    "                if remove_sidechains:\n",
    "                    for atm in res:\n",
    "                        if atm.name == \"CA\":\n",
    "                            new_atm_gemmi = gemmi.Atom()\n",
    "                            new_atm_gemmi.name = atm.name\n",
    "                            new_atm_gemmi.pos = atm.pos\n",
    "                            new_atm_gemmi.element = gemmi.Element(atm.element.name)\n",
    "                            new_res_gemmi.add_atom(new_atm_gemmi)\n",
    "\n",
    "                else:\n",
    "                    for atm in res:\n",
    "                        new_atm_gemmi = gemmi.Atom()\n",
    "                        new_atm_gemmi.name = atm.name\n",
    "                        new_atm_gemmi.pos = atm.pos\n",
    "                        new_atm_gemmi.element = gemmi.Element(atm.element.name)\n",
    "                        new_res_gemmi.add_atom(new_atm_gemmi)                  \n",
    "\n",
    "                new_chain_gemmi.add_residue(new_res_gemmi)\n",
    "        new_model_gemmi.add_chain(new_chain_gemmi)\n",
    "    return new_model_gemmi\n",
    "\n",
    "# functions\n",
    "def compute_correlation(modelmap, targetmap, mask):\n",
    "    \"\"\"Compute the correlation between two maps\"\"\"\n",
    "    \n",
    "    warnings.filterwarnings(\"ignore\", category=RuntimeWarning, message=\"invalid value encountered in scalar divide\")\n",
    "    # apply mask to both maps\n",
    "    modelmap_masked = modelmap * mask\n",
    "    targetmap_masked = targetmap * mask\n",
    "    # compute the mean of the two maps\n",
    "    mean_modelmap = np.mean(modelmap_masked)\n",
    "    mean_targetmap = np.mean(targetmap_masked)\n",
    "    # compute the standard deviation of the two maps\n",
    "    std_modelmap = np.std(modelmap_masked)\n",
    "    std_targetmap = np.std(targetmap_masked)\n",
    "    # compute the correlation\n",
    "    correlation = np.mean((modelmap_masked - mean_modelmap) * (targetmap_masked - mean_targetmap)) / (std_modelmap * std_targetmap)\n",
    "    return correlation\n"
   ]
  },
  {
   "cell_type": "code",
   "execution_count": 4,
   "metadata": {},
   "outputs": [],
   "source": [
    "project_dir = \"/home/mjoosten1/projects/roodmus/data/DE-Shaw_covid_spike_protein/DESRES-Trajectory_sarscov2-11021566-11021571-mixed\"\n",
    "pdb_dir = \"/home/mjoosten1/projects/roodmus/data/DE-Shaw_covid_spike_protein/mnt/parakeet_storage4/ConformationSampling/DESRES-Trajectory_sarscov2-11021566-11021571-mixed\"\n",
    "output_dir = os.path.join(project_dir, \"aligned_ensembles\")\n",
    "\n",
    "pdb_files = [os.path.join(pdb_dir, f) for f in os.listdir(pdb_dir) if f.endswith(\".pdb\")]\n",
    "split_1 = [f for f in pdb_files if int(f.strip(\".pdb\").split(\"_\")[-1]) <= 8334]\n",
    "split_2 = [f for f in pdb_files if int(f.strip(\".pdb\").split(\"_\")[-1]) > 8334]\n",
    "\n",
    "N = 25\n",
    "# sample N files from the total number of files, evenly spaced\n",
    "split_1_sample = split_1[::int(np.ceil(len(split_1)/N))]\n",
    "split_2_sample = split_2[::int(np.ceil(len(split_2)/N))]\n",
    "\n",
    "ensemble_gemmi = gemmi.Structure()\n",
    "ensemble_gemmi_CA = gemmi.Structure()\n",
    "for filename in split_1_sample:\n",
    "    pdb_path = os.path.join(pdb_dir, filename)\n",
    "    frame_gemmi = gemmi.read_structure(pdb_path)\n",
    "    frame_gemmi_filtered = filter_gemmi_model(frame_gemmi[0], remove_sidechains=False)\n",
    "    ensemble_gemmi.add_model(frame_gemmi_filtered)\n",
    "    frame_gemmi_filtered_CA = filter_gemmi_model(frame_gemmi[0], remove_sidechains=True)\n",
    "    ensemble_gemmi_CA.add_model(frame_gemmi_filtered_CA)\n",
    "\n",
    "# write the ensemble to a pdb file\n",
    "ensemble_gemmi.write_pdb(os.path.join(output_dir, \"ensemble_closed_state.pdb\"))\n",
    "ensemble_gemmi_CA.write_pdb(os.path.join(output_dir, \"ensemble_closed_state_CA.pdb\"))\n",
    "\n",
    "ensemble_gemmi = gemmi.Structure()\n",
    "ensemble_gemmi_CA = gemmi.Structure()\n",
    "for filename in split_2_sample:\n",
    "    pdb_path = os.path.join(pdb_dir, filename)\n",
    "    frame_gemmi = gemmi.read_structure(pdb_path)\n",
    "    frame_gemmi_filtered = filter_gemmi_model(frame_gemmi[0], remove_sidechains=False)\n",
    "    ensemble_gemmi.add_model(frame_gemmi_filtered)\n",
    "    frame_gemmi_filtered_CA = filter_gemmi_model(frame_gemmi[0], remove_sidechains=True)\n",
    "    ensemble_gemmi_CA.add_model(frame_gemmi_filtered_CA)\n",
    "\n",
    "# write the ensemble to a pdb file\n",
    "ensemble_gemmi.write_pdb(os.path.join(output_dir, \"ensemble_open_state.pdb\"))\n",
    "ensemble_gemmi_CA.write_pdb(os.path.join(output_dir, \"ensemble_open_state_CA.pdb\"))\n"
   ]
  },
  {
   "cell_type": "markdown",
   "metadata": {},
   "source": [
    "## compute modelmaps for each frame of the aligned ensmebles"
   ]
  },
  {
   "cell_type": "code",
   "execution_count": 6,
   "metadata": {},
   "outputs": [],
   "source": [
    "# define the data for each classification run\n",
    "# 2 class data set\n",
    "classes_data = {\n",
    "    \"2_classes\": {\n",
    "        \"class1\": {\n",
    "            \"job\": \"job044\",\n",
    "            \"map\": \"run_class001.mrc\",\n",
    "        },\n",
    "        \"class2\": {\n",
    "            \"job\": \"job050\",\n",
    "            \"map\": \"run_class001.mrc\",\n",
    "        },\n",
    "    },\n",
    "    \"3_classes\": {\n",
    "        \"class1\": {\n",
    "            \"job\": \"job018\",\n",
    "            \"map\": \"run_class001.mrc\",\n",
    "        },\n",
    "        \"class2\": {\n",
    "            \"job\": \"job031\",\n",
    "            \"map\": \"run_class001.mrc\",\n",
    "        },\n",
    "        \"class3\": {\n",
    "            \"job\": \"job032\",\n",
    "            \"map\": \"run_class001.mrc\",\n",
    "        },\n",
    "    },\n",
    "    \"10_classes\": {\n",
    "        \"class1\": {\n",
    "            \"job\": \"job093\",\n",
    "            \"map\": \"run_class001.mrc\",\n",
    "            \"resolution\": 3,\n",
    "        },\n",
    "        \"class2\": {\n",
    "            \"job\": \"job094\",\n",
    "            \"map\": \"run_class001.mrc\",\n",
    "            \"resolution\": 3,\n",
    "        },\n",
    "        \"class3\": {\n",
    "            \"job\": \"job095\",\n",
    "            \"map\": \"run_class001.mrc\",\n",
    "            \"resolution\": 3,\n",
    "        },\n",
    "        \"class4\": {\n",
    "            \"job\": \"job096\",\n",
    "            \"map\": \"run_class001.mrc\",\n",
    "            \"resolution\": 3,\n",
    "        },\n",
    "        \"class5\": {\n",
    "            \"job\": \"job097\",\n",
    "            \"map\": \"run_class001.mrc\",\n",
    "            \"resolution\": 3,\n",
    "        },\n",
    "        \"class6\": {\n",
    "            \"job\": \"job098\",\n",
    "            \"map\": \"run_class001.mrc\",\n",
    "            \"resolution\": 3,\n",
    "        },\n",
    "        \"class7\": {\n",
    "            \"job\": \"job099\",\n",
    "            \"map\": \"run_class001.mrc\",\n",
    "            \"resolution\": 3,\n",
    "        },\n",
    "        \"class8\": {\n",
    "            \"job\": \"job100\",\n",
    "            \"map\": \"run_class001.mrc\",\n",
    "            \"resolution\": 3,\n",
    "        },\n",
    "        \"class9\": {\n",
    "            \"job\": \"job101\",\n",
    "            \"map\": \"run_class001.mrc\",\n",
    "            \"resolution\": 3,\n",
    "        },\n",
    "        \"class10\": {\n",
    "            \"job\": \"job102\",\n",
    "            \"map\": \"run_class001.mrc\",\n",
    "            \"resolution\": 3,\n",
    "        },\n",
    "    },\n",
    "}"
   ]
  },
  {
   "cell_type": "code",
   "execution_count": 34,
   "metadata": {},
   "outputs": [
    {
     "name": "stderr",
     "output_type": "stream",
     "text": [
      "100%|██████████| 25/25 [12:15<00:00, 29.43s/it]\n",
      "100%|██████████| 25/25 [12:14<00:00, 29.37s/it]\n"
     ]
    }
   ],
   "source": [
    "open_ensemble = os.path.join(project_dir, \"aligned_ensembles\", \"ensemble_open_state_aligned.pdb\")\n",
    "closed_ensemble = os.path.join(project_dir, \"aligned_ensembles\", \"ensemble_closed_state_aligned.pdb\")\n",
    "open_map = os.path.join(project_dir, \"aligned_ensembles\", \"ensemble_open_modelmap.mrc\")\n",
    "closed_map = os.path.join(project_dir, \"aligned_ensembles\", \"ensemble_closed_modelmap.mrc\")\n",
    "\n",
    "resolution = 3\n",
    "for classification_job in [\"2_classes\", \"3_classes\", \"10_classes\"]:\n",
    "    n_classes = len(classes_data[classification_job])\n",
    "\n",
    "    # load the class maps\n",
    "    for class_name, class_data in classes_data[classification_job].items():\n",
    "        class_map = os.path.join(project_dir, \"Refine3D\", class_data[\"job\"], class_data[\"map\"])\n",
    "        classes_data[classification_job][class_name][\"map_data\"] = mrcfile.open(class_map).data\n",
    "\n",
    "# get the gemmi structure of the first class\n",
    "class1_gemmi = gemmi.read_ccp4_map(os.path.join(project_dir, \"Refine3D\", classes_data[classification_job][\"class1\"][\"job\"], classes_data[classification_job][\"class1\"][\"map\"]))\n",
    "unitcell = class1_gemmi.grid.unit_cell\n",
    "size = class1_gemmi.grid.shape\n",
    "vsize = class1_gemmi.grid.spacing[0]\n",
    "\n",
    "# load the ensemble modelmaps and threshold them at 2sigma below the mean\n",
    "open_map_mrc = mrcfile.open(open_map)\n",
    "closed_map_mrc = mrcfile.open(closed_map)\n",
    "threshold_open = np.mean(open_map_mrc.data) + 1 * np.std(open_map_mrc.data)\n",
    "threshold_closed = np.mean(closed_map_mrc.data) + 2 * np.std(closed_map_mrc.data)\n",
    "\n",
    "# print(f\"mean of open map: {np.mean(open_map_mrc.data)}\")\n",
    "# print(f\"mean of closed map: {np.mean(closed_map_mrc.data)}\")\n",
    "# print(f\"threshold of open map: {threshold_open}\")\n",
    "# print(f\"threshold of closed map: {threshold_closed}\")\n",
    "\n",
    "open_mask = open_map_mrc.data > threshold_open\n",
    "closed_mask = closed_map_mrc.data > threshold_closed\n",
    "\n",
    "# load the ensembles\n",
    "ensemble_open_gemmi = gemmi.read_structure(open_ensemble)\n",
    "ensemble_closed_gemmi = gemmi.read_structure(closed_ensemble)\n",
    "n_frames = len(ensemble_open_gemmi) + len(ensemble_closed_gemmi)\n",
    "\n",
    "modelmaps_open = []\n",
    "for frame_model in tqdm(ensemble_open_gemmi):\n",
    "    frame_gemmi = gemmi.Structure()\n",
    "    frame_gemmi.add_model(frame_model)\n",
    "    map_from_model_unfiltered = convert_pdb_to_map(\n",
    "        input_pdb=frame_gemmi,\n",
    "        unitcell=unitcell,\n",
    "        size=size,\n",
    "        return_grid=False,\n",
    "    )\n",
    "    map_from_model_zyx = low_pass_filter(\n",
    "        map_from_model_unfiltered, resolution, vsize\n",
    "    )\n",
    "    map_from_model = np.rot90(\n",
    "        np.flip(map_from_model_zyx, axis=0), axes=(2, 0)\n",
    "    )\n",
    "    modelmaps_open.append(map_from_model)\n",
    "\n",
    "modelmaps_closed = []\n",
    "for frame_model in tqdm(ensemble_closed_gemmi):\n",
    "    frame_gemmi = gemmi.Structure()\n",
    "    frame_gemmi.add_model(frame_model)\n",
    "    map_from_model_unfiltered = convert_pdb_to_map(\n",
    "        input_pdb=frame_gemmi,\n",
    "        unitcell=unitcell,\n",
    "        size=size,\n",
    "        return_grid=False,\n",
    "    )\n",
    "    map_from_model_zyx = low_pass_filter(\n",
    "        map_from_model_unfiltered, resolution, vsize\n",
    "    )\n",
    "    map_from_model = np.rot90(\n",
    "        np.flip(map_from_model_zyx, axis=0), axes=(2, 0)\n",
    "    )\n",
    "    modelmaps_closed.append(map_from_model)"
   ]
  },
  {
   "cell_type": "code",
   "execution_count": 37,
   "metadata": {},
   "outputs": [
    {
     "name": "stdout",
     "output_type": "stream",
     "text": [
      "Computing correlation matrix for 2_classes\n"
     ]
    },
    {
     "name": "stderr",
     "output_type": "stream",
     "text": [
      "100%|██████████| 25/25 [01:12<00:00,  2.88s/it]\n",
      "100%|██████████| 25/25 [01:05<00:00,  2.64s/it]\n"
     ]
    },
    {
     "name": "stdout",
     "output_type": "stream",
     "text": [
      "Computing correlation matrix for 3_classes\n"
     ]
    },
    {
     "name": "stderr",
     "output_type": "stream",
     "text": [
      "100%|██████████| 25/25 [01:48<00:00,  4.34s/it]\n",
      "100%|██████████| 25/25 [01:39<00:00,  3.97s/it]\n"
     ]
    },
    {
     "name": "stdout",
     "output_type": "stream",
     "text": [
      "Computing correlation matrix for 10_classes\n"
     ]
    },
    {
     "name": "stderr",
     "output_type": "stream",
     "text": [
      "100%|██████████| 25/25 [05:59<00:00, 14.36s/it]\n",
      "100%|██████████| 25/25 [05:25<00:00, 13.04s/it]\n"
     ]
    }
   ],
   "source": [
    "# compute the correlation\n",
    "for classification_job in [\"2_classes\", \"3_classes\", \"10_classes\"]:\n",
    "    print(f\"Computing correlation matrix for {classification_job}\")\n",
    "    n_classes = len(classes_data[classification_job])\n",
    "    correlation_matrix = np.zeros((n_frames, n_classes))\n",
    "    for i, modelmap in enumerate(tqdm(modelmaps_open)):\n",
    "        for j, class_name in enumerate(classes_data[classification_job].keys()):\n",
    "            correlation_matrix[i, j] = compute_correlation(modelmap, classes_data[classification_job][class_name][\"map_data\"], open_mask)\n",
    "\n",
    "    for i, modelmap in enumerate(tqdm(modelmaps_closed)):\n",
    "        for j, class_name in enumerate(classes_data[classification_job].keys()):\n",
    "            correlation_matrix[i+len(modelmaps_open), j] = compute_correlation(modelmap, classes_data[classification_job][class_name][\"map_data\"], closed_mask)\n",
    "\n",
    "    # save the correlation matrix as a .npy file in the aligned_ensembles directory\n",
    "    np.save(os.path.join(project_dir, \"aligned_ensembles\", f\"correlation_matrix_{classification_job}.npy\"), correlation_matrix)\n",
    "        "
   ]
  },
  {
   "cell_type": "code",
   "execution_count": 36,
   "metadata": {},
   "outputs": [
    {
     "name": "stdout",
     "output_type": "stream",
     "text": [
      "0.3674143905601764\n"
     ]
    },
    {
     "data": {
      "text/plain": [
       "Text(-0.65, 12, 'open state')"
      ]
     },
     "execution_count": 36,
     "metadata": {},
     "output_type": "execute_result"
    },
    {
     "data": {
      "image/png": "[encoded data removed]",
      "text/plain": [
       "<Figure size 350x350 with 2 Axes>"
      ]
     },
     "metadata": {},
     "output_type": "display_data"
    }
   ],
   "source": [
    "import matplotlib.pyplot as plt\n",
    "print(correlation_matrix.max())\n",
    "fig, ax = plt.subplots(figsize=(3.5, 3.5))\n",
    "# show the heatmap as a square (~50x3)\n",
    "ax.imshow(correlation_matrix, cmap=\"coolwarm\", aspect=\"auto\", origin=\"lower\")\n",
    "ticklabels = [f\"class {i+1}\" for i in range(n_classes)]\n",
    "ax.set_xticks(range(n_classes))\n",
    "ax.set_xticklabels(ticklabels, fontsize=12, rotation=45)\n",
    "ax.set_yticks([0, n_frames//2-2, n_frames//2+2, n_frames-1])\n",
    "ax.set_yticklabels([\"0 \\u03BCs\", \"10 \\u03BCs\", \"0 \\u03BCs\", \"10 \\u03BCs\"], fontsize=12)\n",
    "ax.axhline(y=n_frames//2, color=\"black\", linestyle=\"solid\", linewidth=2)\n",
    "# add colorbar\n",
    "cbar = ax.figure.colorbar(ax.get_images()[0], ax=ax, orientation=\"vertical\")\n",
    "ax.text(\n",
    "    -0.65,\n",
    "    3*n_frames//4,\n",
    "    \"closed state\",\n",
    "    ha='right',\n",
    "    va='bottom',\n",
    "    fontsize=12,\n",
    "    fontweight='bold',\n",
    ")\n",
    "ax.text(\n",
    "    -0.65,\n",
    "    n_frames//4,\n",
    "    \"open state\",\n",
    "    ha='right',\n",
    "    va='bottom',\n",
    "    fontsize=12,\n",
    "    fontweight='bold',\n",
    ")\n",
    "\n",
    "# save the figure\n",
    "# fig.savefig(os.path.join(project_dir, \"figures\", f\"correlation_matrix_{n_classes}classes.pdf\"), bbox_inches=\"tight\")"
   ]
  },
  {
   "cell_type": "code",
   "execution_count": null,
   "metadata": {},
   "outputs": [],
   "source": []
  }
 ],
 "metadata": {
  "kernelspec": {
   "display_name": "roodmus",
   "language": "python",
   "name": "python3"
  },
  "language_info": {
   "codemirror_mode": {
    "name": "ipython",
    "version": 3
   },
   "file_extension": ".py",
   "mimetype": "text/x-python",
   "name": "python",
   "nbconvert_exporter": "python",
   "pygments_lexer": "ipython3",
   "version": "3.10.13"
  }
 },
 "nbformat": 4,
 "nbformat_minor": 2
}
