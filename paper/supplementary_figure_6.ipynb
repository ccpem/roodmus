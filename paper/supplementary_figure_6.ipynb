{
 "cells": [
  {
   "cell_type": "markdown",
   "metadata": {},
   "source": [
    "# plotting functions for supplementary figure 6\n",
    "This figure shows the results of 2 3DFlex models trained on the covid spike monomer steered MD dataset. The panels are largely the same as figure 5 in the manunscript\n"
   ]
  },
  {
   "cell_type": "code",
   "execution_count": null,
   "metadata": {},
   "outputs": [],
   "source": [
    "# imports\n",
    "import os\n",
    "import gemmi\n",
    "import pandas as pd\n",
    "import matplotlib.pyplot as plt\n",
    "import seaborn as sns\n",
    "import numpy as np\n",
    "\n",
    "# roodmus\n",
    "from roodmus.analysis.utils import load_data\n",
    "from roodmus.analysis.utils import IO\n",
    "from roodmus.heterogeneity.plot_heterogeneous_reconstruction import plot_latent_space_scatter"
   ]
  },
  {
   "cell_type": "markdown",
   "metadata": {},
   "source": [
    "# 3DFlex model with zdim = 1\n",
    "This model's latent space must be visualised differently then the usual cases where zdim >= 2.\n"
   ]
  },
  {
   "cell_type": "code",
   "execution_count": null,
   "metadata": {},
   "outputs": [],
   "source": [
    "# data loading\n",
    "project_dir = \"/home/mjoosten1/projects/roodmus/data/6xm5_steered_Roodmus_2\"\n",
    "config_dir = os.path.join(project_dir, \"mrc\")\n",
    "figures_dir = os.path.join(project_dir, \"figures\")\n",
    "meta_file = os.path.join(project_dir, \"cryoSPARC\", \"J526_passthrough_particles.cs\")\n",
    "jobtypes = {\n",
    "    os.path.join(project_dir, \"cryoSPARC\", \"J526_passthrough_particles.cs\"): \"3DFlex zdim=1\"\n",
    "}\n",
    "latent_file = os.path.join(project_dir, \"cryoSPARC\", \"J526_latents_019446.cs\")\n",
    "dt = 0.01 # ps interval between frames\n",
    "\n",
    "particle_diameter = 100 # approximate particle diameter in Angstroms\n",
    "ugraph_shape = (4000, 4000) # shape of the micrograph in pixels. Only needs to be given if the metadata file is a .star file\n",
    "verbose = True\n",
    "ignore_missing_files = True\n",
    "enable_tqdm = True\n",
    "\n",
    "analysis = load_data(meta_file, config_dir, particle_diameter, ugraph_shape=ugraph_shape, verbose=verbose, enable_tqdm=enable_tqdm, ignore_missing_files=ignore_missing_files) # creates the class\n",
    "df_picked = pd.DataFrame(analysis.results_picking)\n",
    "df_truth = pd.DataFrame(analysis.results_truth)\n",
    "df_precision, df_picked = analysis.compute_precision(df_picked, df_truth, verbose=verbose)\n",
    "print(f\"mean precision: {df_precision['precision'].mean()}\")\n",
    "print(f\"mean recall: {df_precision['recall'].mean()}\")\n",
    "\n",
    "latent_space, ndim = IO.get_latents_cs(latent_file)\n",
    "print(f\"latent space dimensionality: {ndim}\")\n",
    "print(latent_space.shape)\n",
    "for i in range(ndim):\n",
    "    df_picked[\"latent_{}\".format(i)] = latent_space[:, i]\n",
    "df_picked.tail()"
   ]
  },
  {
   "cell_type": "markdown",
   "metadata": {},
   "source": [
    "## panel A\n",
    "plotting the 1-dimensional latent space as a histogram"
   ]
  },
  {
   "cell_type": "code",
   "execution_count": null,
   "metadata": {},
   "outputs": [],
   "source": [
    "fig, ax = plt.subplots(figsize=(3.5, 3.5))\n",
    "sns.histplot(\n",
    "    data=df_picked,\n",
    "    x=\"latent_0\",\n",
    "    color=\"black\",\n",
    "    kde=True,\n",
    "    bins=20,\n",
    "    ax=ax,\n",
    ")\n",
    "ax.set_xlabel(\"Z0\", fontsize=16)\n",
    "ax.set_ylabel(\"Count\", fontsize=16)\n",
    "ax.tick_params(axis=\"both\", which=\"major\", labelsize=14)\n",
    "\n",
    "outfilename = os.path.join(figures_dir, f\"histogram_z0_{os.path.basename(latent_file)}.pdf\")\n",
    "# fig.savefig(outfilename, bbox_inches=\"tight\")\n",
    "print(f\"saved figure to: {outfilename}\")\n"
   ]
  },
  {
   "cell_type": "markdown",
   "metadata": {},
   "source": [
    "## panel B\n",
    "kdeplot of the 1-dimensional latent space versus the time in the MD trajectory of each particle"
   ]
  },
  {
   "cell_type": "code",
   "execution_count": null,
   "metadata": {},
   "outputs": [],
   "source": [
    "df_picked[\"time\"] = df_picked[\"closest_pdb_index\"].apply(lambda x: x * dt)\n",
    "print(df_picked[\"time\"].max())\n",
    "print(df_picked[\"latent_0\"].max())\n",
    "\n",
    "fig, ax = plt.subplots(figsize=(3.5, 3.5))\n",
    "sns.histplot(\n",
    "    data=df_picked,\n",
    "    x=\"time\",\n",
    "    y=\"latent_0\",\n",
    "    cbar=True,\n",
    "    cbar_kws={\"label\": \"\"},\n",
    "    bins=50,\n",
    "    cmap=\"Oranges\",\n",
    "    ax=ax,\n",
    ")\n",
    "ax.set_xlabel(\"Time (ps)\", fontsize=16)\n",
    "ax.set_ylabel(\"Z0\", fontsize=16)\n",
    "ax.tick_params(axis=\"both\", which=\"major\", labelsize=14)\n",
    "# change the tick labels of the colourbar to fontsize 14\n",
    "cbar = ax.collections[0].colorbar\n",
    "cbar.ax.tick_params(labelsize=14)\n",
    "outfilename = os.path.join(figures_dir, f\"z0_vs_time_{os.path.basename(latent_file)}.pdf\")\n",
    "# fig.savefig(outfilename, bbox_inches=\"tight\")\n",
    "print(f\"saved figure to: {outfilename}\")\n"
   ]
  },
  {
   "cell_type": "markdown",
   "metadata": {},
   "source": [
    "# 3DFlex model with zdim = 2"
   ]
  },
  {
   "cell_type": "code",
   "execution_count": null,
   "metadata": {},
   "outputs": [],
   "source": [
    "# data loading\n",
    "project_dir = \"/home/mjoosten1/projects/roodmus/data/6xm5_steered_Roodmus_2\"\n",
    "config_dir = os.path.join(project_dir, \"mrc\")\n",
    "figures_dir = os.path.join(project_dir, \"figures\")\n",
    "meta_file = os.path.join(project_dir, \"cryoSPARC\", \"J577_passthrough_particles.cs\")\n",
    "jobtypes = {\n",
    "    os.path.join(project_dir, \"cryoSPARC\", \"J577_passthrough_particles.cs\"): \"3DFlex zdim=2\"\n",
    "}\n",
    "latent_file = os.path.join(project_dir, \"cryoSPARC\", \"J577_latents_022224.cs\")\n",
    "dt = 0.01 # ps interval between frames\n",
    "\n",
    "particle_diameter = 100 # approximate particle diameter in Angstroms\n",
    "ugraph_shape = (4000, 4000) # shape of the micrograph in pixels. Only needs to be given if the metadata file is a .star file\n",
    "verbose = True\n",
    "ignore_missing_files = True\n",
    "enable_tqdm = True\n",
    "\n",
    "analysis = load_data(meta_file, config_dir, particle_diameter, ugraph_shape=ugraph_shape, verbose=verbose, enable_tqdm=enable_tqdm, ignore_missing_files=ignore_missing_files) # creates the class\n",
    "df_picked = pd.DataFrame(analysis.results_picking)\n",
    "df_truth = pd.DataFrame(analysis.results_truth)\n",
    "df_precision, df_picked = analysis.compute_precision(df_picked, df_truth, verbose=verbose)\n",
    "# p_match, _, p_unmatched, t_unmatched, closest_truth_index = analysis._match_particles(\n",
    "#     meta_file,\n",
    "#     df_picked,\n",
    "#     df_truth,\n",
    "#     verbose=False,\n",
    "#     enable_tqdm=True,\n",
    "# )\n",
    "# df_precision = analysis.compute_1to1_match_precision(\n",
    "#     p_match,\n",
    "#     p_unmatched,\n",
    "#     t_unmatched,\n",
    "#     df_truth,\n",
    "#     verbose=False,\n",
    "# )\n",
    "# df_picked[\"TP\"] = ~np.isnan(closest_truth_index)\n",
    "print(f\"mean precision: {df_precision['precision'].mean()}\")\n",
    "print(f\"mean recall: {df_precision['recall'].mean()}\")\n",
    "\n",
    "latent_space, ndim = IO.get_latents_cs(latent_file)\n",
    "print(f\"latent space dimensionality: {ndim}\")\n",
    "print(latent_space.shape)\n",
    "for i in range(ndim):\n",
    "    df_picked[\"latent_{}\".format(i)] = latent_space[:, i]\n",
    "df_picked.tail()"
   ]
  },
  {
   "cell_type": "markdown",
   "metadata": {},
   "source": [
    "## panel C\n",
    "scatter plot of the 2-dimensional latent space"
   ]
  },
  {
   "cell_type": "code",
   "execution_count": null,
   "metadata": {},
   "outputs": [],
   "source": [
    "# latent space scatter plot\n",
    "dim1=0\n",
    "dim2=1\n",
    "\n",
    "grid = plot_latent_space_scatter(\n",
    "    df_picked,\n",
    "    dim_1=dim1,\n",
    "    dim_2=dim2,\n",
    "    pca=False\n",
    ")\n",
    "df_FP = df_picked[df_picked[\"TP\"]==0]\n",
    "print(f\"number of FP: {len(df_FP)}\")\n",
    "print(f\"number of TP: {len(df_picked)-len(df_FP)}\")\n",
    "ax = grid.figure.get_axes()[0]\n",
    "# sns.scatterplot(\n",
    "#     data=df_FP,\n",
    "#     x=f\"latent_{dim1}\",\n",
    "#     y=f\"latent_{dim2}\",\n",
    "#     color=\"red\",\n",
    "#     s=10,\n",
    "#     ax=ax,\n",
    "#     label=\"FP\",\n",
    "# )\n",
    "grid.set_axis_labels(f\"Z{dim1}\", f\"Z{dim2}\", fontsize=16)\n",
    "grid.figure.get_axes()[0].tick_params(axis=\"both\", which=\"major\", labelsize=14)\n",
    "\n",
    "outfilename = os.path.join(figures_dir, f\"{os.path.basename(latent_file)}_{dim1}_{dim2}.png\")\n",
    "# grid.figure.savefig(outfilename, dpi=600, bbox_inches=\"tight\")\n",
    "print(f\"saved figure to: {outfilename}\")"
   ]
  },
  {
   "cell_type": "markdown",
   "metadata": {},
   "source": [
    "## panel D\n",
    "scatterplot of the 2-dimensional latent space with the time in the MD trajectory of each particle as the color"
   ]
  },
  {
   "cell_type": "code",
   "execution_count": null,
   "metadata": {},
   "outputs": [],
   "source": [
    "# latent space scatter plot, coloured by ground truth frames\n",
    "dim1=0\n",
    "dim2=1\n",
    "\n",
    "fig, ax = plot_latent_space_scatter(\n",
    "    df_picked,\n",
    "    dim_1=dim1,\n",
    "    dim_2=dim2,\n",
    "    color_by=\"closest_pdb_index\",\n",
    "    palette=\"RdYlBu\",\n",
    "    pca=False,\n",
    ")\n",
    "# remove legend and add colorbar for the closest_pdb_index\n",
    "ax.legend_.remove()\n",
    "S_m = plt.cm.ScalarMappable(cmap=\"RdYlBu\")\n",
    "S_m.set_array(df_picked[\"closest_pdb_index\"])\n",
    "cbar = plt.colorbar(S_m)\n",
    "cbar.set_label(\"Time (ps)\", rotation=270, labelpad=15, fontsize=16) # time in ps\n",
    "# change the tick labels on the colorbar to go from 0 to 10 us\n",
    "cbar.set_ticks(np.linspace(1, df_picked[\"closest_pdb_index\"].max(), 10))\n",
    "xticklabels = [np.round(r, 1) for r in np.linspace(1, df_picked[\"closest_pdb_index\"].max(), 10)*dt]\n",
    "cbar.set_ticklabels(xticklabels, fontsize=14)\n",
    "ax.set_xlabel(f\"Z{dim1}\", fontsize=16)\n",
    "ax.set_ylabel(f\"Z{dim2}\", fontsize=16)\n",
    "ax.tick_params(labelsize=14)\n",
    "\n",
    "# add trajectory to the plot\n",
    "trajectory_file = os.path.join(project_dir, \"cryoSPARC\", \"J577_custom_path_2.csv\")\n",
    "trajectory = np.loadtxt(trajectory_file, delimiter=\",\", skiprows=1)\n",
    "\n",
    "ax.scatter(trajectory[:, 0], trajectory[:, 1], s=5, c=\"black\", zorder=10)\n",
    "ax.plot(trajectory[:, 0], trajectory[:, 1], c=\"black\", zorder=10, linewidth=0.5)\n",
    "ax.set_aspect(\"equal\")\n",
    "\n",
    "# add trajectory to the plot\n",
    "# N_volumes = 50\n",
    "# pdb_indices = np.unique(df_picked[\"closest_pdb_index\"])\n",
    "# d_pdbs = len(pdb_indices) // N_volumes\n",
    "\n",
    "# trajectory = np.zeros((N_volumes, ndim))\n",
    "# for i in range(N_volumes):\n",
    "#     pdb_group = pdb_indices[i*d_pdbs:(i+1)*d_pdbs]\n",
    "#     mean_latent = df_picked[df_picked[\"closest_pdb_index\"].isin(pdb_group)].agg(\n",
    "#         {f\"latent_{i}\": \"mean\" for i in range(ndim)}\n",
    "#     )\n",
    "#     trajectory[i] = mean_latent.values\n",
    "\n",
    "# ax.scatter(trajectory[:, 0], trajectory[:, 1], s=5, c=\"black\", zorder=10)\n",
    "# ax.plot(trajectory[:, 0], trajectory[:, 1], c=\"black\", zorder=10, linewidth=0.5)\n",
    "# ax.set_aspect(\"equal\")\n",
    "\n",
    "outfilename = os.path.join(figures_dir, f\"{os.path.basename(latent_file)}_latent_space_scatter_colored_by_closest_pdb_index_pca.png\")\n",
    "# fig.savefig(outfilename, bbox_inches=\"tight\", dpi=600)\n",
    "print(f\"saved figure to: {outfilename}\")\n"
   ]
  },
  {
   "cell_type": "markdown",
   "metadata": {},
   "source": [
    "## panel E\n",
    "plotting the correlation between the MD trajectory and the 1-dimensional latent space\n"
   ]
  },
  {
   "cell_type": "code",
   "execution_count": null,
   "metadata": {},
   "outputs": [],
   "source": [
    "# plot the correlation matrix\n",
    "project_dir = \"/home/mjoosten1/projects/roodmus/data/6xm5_steered_Roodmus_2\"\n",
    "figures_dir = os.path.join(project_dir, \"figures\")\n",
    "correlation_matrix_file = os.path.join(project_dir, \"cryosparc_P51_J527_series_000\", \"correlation_matrix.npy\")\n",
    "correlation_matrix = np.load(correlation_matrix_file)\n",
    "latent_file = os.path.join(project_dir, \"cryoSPARC\", \"J526_latents_019446.cs\")\n",
    "\n",
    "frames = correlation_matrix.shape[0]\n",
    "\n",
    "fig, ax = plt.subplots(figsize=(3.5, 3.5))\n",
    "ax.imshow(correlation_matrix, cmap=\"coolwarm\")\n",
    "yticks = np.linspace(0, frames, 10)\n",
    "yticklabels = np.round(np.linspace(0, 10, 10, dtype=float), 1)\n",
    "ax.set_yticks(yticks)\n",
    "ax.set_yticklabels(yticklabels)\n",
    "ax.set_ylabel(\"Time (ps)\", fontsize=16)\n",
    "ax.set_xlabel(\"Sampled volume\", fontsize=16)\n",
    "cbar = ax.figure.colorbar(ax.get_images()[0], ax=ax, orientation=\"vertical\", pad=0.01, shrink=0.9)\n",
    "cbar.ax.tick_params(labelsize=14)\n",
    "cbar.ax.set_ylabel(\"Correlation\", fontsize=16, rotation=270, labelpad=20)\n",
    "ax.tick_params(axis=\"both\", which=\"major\", labelsize=14)\n",
    "\n",
    "outfilename = os.path.join(figures_dir, f\"{os.path.basename(latent_file)}_correlation_matrix.pdf\")\n",
    "fig.savefig(outfilename, bbox_inches=\"tight\")\n",
    "print(f\"saved figure to: {outfilename}\")\n"
   ]
  },
  {
   "cell_type": "markdown",
   "metadata": {},
   "source": [
    "## panel F\n",
    "plotting the correlation between the MD trajectory and the 2-dimensional latent space"
   ]
  },
  {
   "cell_type": "code",
   "execution_count": null,
   "metadata": {},
   "outputs": [],
   "source": [
    "# plot the correlation matrix\n",
    "project_dir = \"/home/mjoosten1/projects/roodmus/data/6xm5_steered_Roodmus_2\"\n",
    "figures_dir = os.path.join(project_dir, \"figures\")\n",
    "correlation_matrix_file = os.path.join(project_dir, \"cryosparc_P51_J641_series_000\", \"correlation_matrix.npy\")\n",
    "correlation_matrix = np.load(correlation_matrix_file)\n",
    "latent_file = os.path.join(project_dir, \"cryoSPARC\", \"J577_latents_022224.cs\")\n",
    "\n",
    "frames = correlation_matrix.shape[0]\n",
    "\n",
    "fig, ax = plt.subplots(figsize=(3.5, 3.5))\n",
    "ax.imshow(correlation_matrix, cmap=\"coolwarm\")\n",
    "yticks = np.linspace(0, frames, 10)\n",
    "yticklabels = np.round(np.linspace(0, 10, 10, dtype=float), 1)\n",
    "ax.set_yticks(yticks)\n",
    "ax.set_yticklabels(yticklabels)\n",
    "ax.set_ylabel(\"Time (ps)\", fontsize=16)\n",
    "ax.set_xlabel(\"Sampled volume\", fontsize=16)\n",
    "cbar = ax.figure.colorbar(ax.get_images()[0], ax=ax, orientation=\"vertical\", pad=0.01, shrink=0.9)\n",
    "cbar.ax.tick_params(labelsize=14)\n",
    "cbar.ax.set_ylabel(\"Correlation\", fontsize=16, rotation=270, labelpad=20)\n",
    "ax.tick_params(axis=\"both\", which=\"major\", labelsize=14)\n",
    "\n",
    "outfilename = os.path.join(figures_dir, f\"{os.path.basename(latent_file)}_correlation_matrix.pdf\")\n",
    "fig.savefig(outfilename, bbox_inches=\"tight\")\n",
    "print(f\"saved figure to: {outfilename}\")\n"
   ]
  },
  {
   "cell_type": "markdown",
   "metadata": {},
   "source": [
    "## in-text\n",
    "compute and print the total mass of the first conformation\n"
   ]
  },
  {
   "cell_type": "code",
   "execution_count": null,
   "metadata": {},
   "outputs": [],
   "source": [
    "pdb_file = \"/home/mjoosten1/projects/roodmus/data/6xm5_steered_Roodmus_1/pdb/conformation_000000.pdb\"\n",
    "pdb_gemmi = gemmi.read_structure(pdb_file)\n",
    "mass = 0\n",
    "for chn in pdb_gemmi[0]:\n",
    "    for res in chn:\n",
    "        for atm in res:\n",
    "            mass += atm.element.weight\n",
    "\n",
    "print(f\"total mass: {mass/1000} kDa\")\n",
    "print(f\"mass of entire protein: {mass/1000*3} kDa\")\n"
   ]
  },
  {
   "cell_type": "code",
   "execution_count": null,
   "metadata": {},
   "outputs": [],
   "source": []
  }
 ],
 "metadata": {
  "kernelspec": {
   "display_name": "roodmus",
   "language": "python",
   "name": "python3"
  },
  "language_info": {
   "codemirror_mode": {
    "name": "ipython",
    "version": 3
   },
   "file_extension": ".py",
   "mimetype": "text/x-python",
   "name": "python",
   "nbconvert_exporter": "python",
   "pygments_lexer": "ipython3",
   "version": "3.10.13"
  }
 },
 "nbformat": 4,
 "nbformat_minor": 2
}
