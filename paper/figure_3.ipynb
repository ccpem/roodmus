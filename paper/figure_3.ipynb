{
 "cells": [
  {
   "cell_type": "markdown",
   "metadata": {},
   "source": [
    "# plotting functions of figure 3 in the manuscript\n",
    "In this figure we demonstrate the ability to change the SNR of the particles to more accurately approach experimental data.\n"
   ]
  },
  {
   "cell_type": "code",
   "execution_count": 2,
   "metadata": {},
   "outputs": [],
   "source": [
    "# imports\n",
    "import os\n",
    "import pandas as pd\n",
    "import matplotlib.pyplot as plt\n",
    "import numpy as np\n",
    "import seaborn as sns\n",
    "import mrcfile\n",
    "\n",
    "from emmer.ndimage.filter.smoothen_mask import smoothen_mask\n",
    "from pipeliner.mrc_image_tools import mrc_thumbnail\n",
    "from gemmi import cif\n",
    "\n",
    "# roodmus\n",
    "from roodmus.analysis.utils import load_data"
   ]
  },
  {
   "cell_type": "code",
   "execution_count": null,
   "metadata": {},
   "outputs": [],
   "source": [
    "# functions"
   ]
  },
  {
   "cell_type": "markdown",
   "metadata": {},
   "source": [
    "## panel A\n",
    "plotting an example micrograph and the corresponding power spectrum"
   ]
  },
  {
   "cell_type": "code",
   "execution_count": null,
   "metadata": {},
   "outputs": [],
   "source": [
    "# load the input micrograph and plot a thumbnail\n",
    "project_dir = \"/home/mjoosten1/projects/roodmus/data/20240110_low_exposure_data_reconstruction/\"\n",
    "figures_dir = os.path.join(project_dir, \"figures\")\n",
    "input_mrc_filename = os.path.join(project_dir, \"CtfFind\", \"job002\", \"maarten_thumbnail\", \"input.mrc\")\n",
    "input_mrc_thumbnail = mrc_thumbnail(\n",
    "    input_mrc_filename,\n",
    "    500,\n",
    "    os.path.join(figures_dir, \"input_thumbnail.png\"),\n",
    ")\n",
    "\n",
    "fig, ax = plt.subplots()\n",
    "ax.imshow(input_mrc_thumbnail, cmap='gray')\n",
    "ax.set_xticks([])\n",
    "ax.set_yticks([])"
   ]
  },
  {
   "cell_type": "code",
   "execution_count": null,
   "metadata": {},
   "outputs": [],
   "source": [
    "# plot the power specrtrum\n",
    "diagnostic_filename = os.path.join(project_dir, \"CtfFind\", \"job002\", \"maarten_thumbnail\", \"diagnostic_output.mrc\")\n",
    "mrc_thumbnail = mrc_thumbnail(\n",
    "    diagnostic_filename,\n",
    "    500,\n",
    "    os.path.join(figures_dir, \"diagnostic_thumbnail.png\"),\n",
    ")\n",
    "\n",
    "fig, ax = plt.subplots()\n",
    "ax.imshow(mrc_thumbnail, cmap='gray')\n",
    "ax.set_xticks([])\n",
    "ax.set_yticks([])"
   ]
  },
  {
   "cell_type": "markdown",
   "metadata": {},
   "source": [
    "## panel B\n",
    "precision and recall of particle picking with topaz for different electron dose levels"
   ]
  },
  {
   "cell_type": "code",
   "execution_count": 6,
   "metadata": {},
   "outputs": [
    {
     "name": "stdout",
     "output_type": "stream",
     "text": [
      "/home/mjoosten1/projects/roodmus/data/20231017_EMPIAR_SNR_comparison/mrc_epa_45\n",
      "loading metadata from /home/mjoosten1/projects/roodmus/data/20231017_EMPIAR_SNR_comparison/Extract/job004/particles.star...\n",
      "loaded metadata from /home/mjoosten1/projects/roodmus/data/20231017_EMPIAR_SNR_comparison/Extract/job004/particles.star. determined file type: star\n",
      "\n",
      "\n",
      "Dictionaries now contain 35912 reconstructed particles\n",
      "added 35912 particles from /home/mjoosten1/projects/roodmus/data/20231017_EMPIAR_SNR_comparison/Extract/job004/particles.star\n"
     ]
    },
    {
     "name": "stderr",
     "output_type": "stream",
     "text": [
      "loading truth data: 100%|██████████| 100/100 [00:23<00:00,  4.24it/s, micrograph=000099.mrc]\n"
     ]
    },
    {
     "name": "stdout",
     "output_type": "stream",
     "text": [
      "Loaded ground-truth particle positions from config files\n",
      "Dictionaries now contain 35912 particles and 30000 true particles\n",
      "Added 30000 particles from /home/mjoosten1/projects/roodmus/data/20231017_EMPIAR_SNR_comparison/mrc_epa_45\n",
      "loading metadata from /home/mjoosten1/projects/roodmus/data/20231017_EMPIAR_SNR_comparison/Extract/job010/particles.star...\n",
      "loaded metadata from /home/mjoosten1/projects/roodmus/data/20231017_EMPIAR_SNR_comparison/Extract/job010/particles.star. determined file type: star\n",
      "checking if ugraphs exist...\n",
      "\n",
      "\n",
      "Dictionaries now contain 108600 reconstructed particles\n",
      "added 72688 particles from /home/mjoosten1/projects/roodmus/data/20231017_EMPIAR_SNR_comparison/Extract/job010/particles.star\n",
      "loading metadata from /home/mjoosten1/projects/roodmus/data/20231017_EMPIAR_SNR_comparison/Refine3D/job016/run_data.star...\n",
      "loaded metadata from /home/mjoosten1/projects/roodmus/data/20231017_EMPIAR_SNR_comparison/Refine3D/job016/run_data.star. determined file type: star\n",
      "checking if ugraphs exist...\n",
      "\n",
      "\n",
      "Dictionaries now contain 136760 reconstructed particles\n",
      "added 28160 particles from /home/mjoosten1/projects/roodmus/data/20231017_EMPIAR_SNR_comparison/Refine3D/job016/run_data.star\n",
      "For each micrograph, for each metadata file, compute the precision, recall and multiplicity\n",
      "Speed of computation depends on the number of particles in the micrograph. progressbar is not accurate\n",
      "Total number of groups to loop over: 300\n",
      "Number of micgrographs: 100\n",
      "Number of metadata files: 3\n",
      "Starting loop over groups\n"
     ]
    },
    {
     "name": "stderr",
     "output_type": "stream",
     "text": [
      "computing precision: 100%|██████████| 300/300 [00:38<00:00,  7.86it/s, precision=0.919, recall=0.966, multiplicity=0.973]\n"
     ]
    },
    {
     "name": "stdout",
     "output_type": "stream",
     "text": [
      "time taken to compute precision: 38.40883016586304\n"
     ]
    },
    {
     "name": "stderr",
     "output_type": "stream",
     "text": [
      "computing overlap: 100%|██████████| 300/300 [00:01<00:00, 165.85it/s, neighbours_truth=252, neighbours_picked=418]\n"
     ]
    },
    {
     "name": "stdout",
     "output_type": "stream",
     "text": [
      "/home/mjoosten1/projects/roodmus/data/20231017_EMPIAR_SNR_comparison/mrc_epa_35\n",
      "loading metadata from /home/mjoosten1/projects/roodmus/data/20231017_EMPIAR_SNR_comparison/Extract/job037/particles.star...\n",
      "loaded metadata from /home/mjoosten1/projects/roodmus/data/20231017_EMPIAR_SNR_comparison/Extract/job037/particles.star. determined file type: star\n",
      "\n",
      "\n",
      "Dictionaries now contain 35948 reconstructed particles\n",
      "added 35948 particles from /home/mjoosten1/projects/roodmus/data/20231017_EMPIAR_SNR_comparison/Extract/job037/particles.star\n"
     ]
    },
    {
     "name": "stderr",
     "output_type": "stream",
     "text": [
      "loading truth data: 100%|██████████| 100/100 [00:24<00:00,  4.07it/s, micrograph=000099.mrc]\n"
     ]
    },
    {
     "name": "stdout",
     "output_type": "stream",
     "text": [
      "Loaded ground-truth particle positions from config files\n",
      "Dictionaries now contain 35948 particles and 30000 true particles\n",
      "Added 30000 particles from /home/mjoosten1/projects/roodmus/data/20231017_EMPIAR_SNR_comparison/mrc_epa_35\n",
      "loading metadata from /home/mjoosten1/projects/roodmus/data/20231017_EMPIAR_SNR_comparison/Extract/job042/particles.star...\n",
      "loaded metadata from /home/mjoosten1/projects/roodmus/data/20231017_EMPIAR_SNR_comparison/Extract/job042/particles.star. determined file type: star\n",
      "checking if ugraphs exist...\n",
      "\n",
      "\n",
      "Dictionaries now contain 105057 reconstructed particles\n",
      "added 69109 particles from /home/mjoosten1/projects/roodmus/data/20231017_EMPIAR_SNR_comparison/Extract/job042/particles.star\n",
      "loading metadata from /home/mjoosten1/projects/roodmus/data/20231017_EMPIAR_SNR_comparison/Refine3D/job048/run_data.star...\n",
      "loaded metadata from /home/mjoosten1/projects/roodmus/data/20231017_EMPIAR_SNR_comparison/Refine3D/job048/run_data.star. determined file type: star\n",
      "checking if ugraphs exist...\n",
      "\n",
      "\n",
      "Dictionaries now contain 132954 reconstructed particles\n",
      "added 27897 particles from /home/mjoosten1/projects/roodmus/data/20231017_EMPIAR_SNR_comparison/Refine3D/job048/run_data.star\n",
      "For each micrograph, for each metadata file, compute the precision, recall and multiplicity\n",
      "Speed of computation depends on the number of particles in the micrograph. progressbar is not accurate\n",
      "Total number of groups to loop over: 300\n",
      "Number of micgrographs: 100\n",
      "Number of metadata files: 3\n",
      "Starting loop over groups\n"
     ]
    },
    {
     "name": "stderr",
     "output_type": "stream",
     "text": [
      "computing precision: 100%|██████████| 300/300 [00:41<00:00,  7.30it/s, precision=0.981, recall=0.893, multiplicity=0.9]  \n"
     ]
    },
    {
     "name": "stdout",
     "output_type": "stream",
     "text": [
      "time taken to compute precision: 41.456748247146606\n"
     ]
    },
    {
     "name": "stderr",
     "output_type": "stream",
     "text": [
      "computing overlap: 100%|██████████| 300/300 [00:01<00:00, 167.32it/s, neighbours_truth=253, neighbours_picked=344]\n"
     ]
    },
    {
     "name": "stdout",
     "output_type": "stream",
     "text": [
      "/home/mjoosten1/projects/roodmus/data/20231017_EMPIAR_SNR_comparison/mrc_epa_25\n",
      "loading metadata from /home/mjoosten1/projects/roodmus/data/20231017_EMPIAR_SNR_comparison/Extract/job054/particles.star...\n",
      "loaded metadata from /home/mjoosten1/projects/roodmus/data/20231017_EMPIAR_SNR_comparison/Extract/job054/particles.star. determined file type: star\n",
      "\n",
      "\n",
      "Dictionaries now contain 36250 reconstructed particles\n",
      "added 36250 particles from /home/mjoosten1/projects/roodmus/data/20231017_EMPIAR_SNR_comparison/Extract/job054/particles.star\n"
     ]
    },
    {
     "name": "stderr",
     "output_type": "stream",
     "text": [
      "loading truth data: 100%|██████████| 100/100 [00:24<00:00,  4.10it/s, micrograph=000099.mrc]\n"
     ]
    },
    {
     "name": "stdout",
     "output_type": "stream",
     "text": [
      "Loaded ground-truth particle positions from config files\n",
      "Dictionaries now contain 36250 particles and 30000 true particles\n",
      "Added 30000 particles from /home/mjoosten1/projects/roodmus/data/20231017_EMPIAR_SNR_comparison/mrc_epa_25\n",
      "loading metadata from /home/mjoosten1/projects/roodmus/data/20231017_EMPIAR_SNR_comparison/Extract/job059/particles.star...\n",
      "loaded metadata from /home/mjoosten1/projects/roodmus/data/20231017_EMPIAR_SNR_comparison/Extract/job059/particles.star. determined file type: star\n",
      "checking if ugraphs exist...\n",
      "\n",
      "\n",
      "Dictionaries now contain 115395 reconstructed particles\n",
      "added 79145 particles from /home/mjoosten1/projects/roodmus/data/20231017_EMPIAR_SNR_comparison/Extract/job059/particles.star\n",
      "loading metadata from /home/mjoosten1/projects/roodmus/data/20231017_EMPIAR_SNR_comparison/Refine3D/job065/run_data.star...\n",
      "loaded metadata from /home/mjoosten1/projects/roodmus/data/20231017_EMPIAR_SNR_comparison/Refine3D/job065/run_data.star. determined file type: star\n",
      "checking if ugraphs exist...\n",
      "\n",
      "\n",
      "Dictionaries now contain 144841 reconstructed particles\n",
      "added 29446 particles from /home/mjoosten1/projects/roodmus/data/20231017_EMPIAR_SNR_comparison/Refine3D/job065/run_data.star\n",
      "For each micrograph, for each metadata file, compute the precision, recall and multiplicity\n",
      "Speed of computation depends on the number of particles in the micrograph. progressbar is not accurate\n",
      "Total number of groups to loop over: 300\n",
      "Number of micgrographs: 100\n",
      "Number of metadata files: 3\n",
      "Starting loop over groups\n"
     ]
    },
    {
     "name": "stderr",
     "output_type": "stream",
     "text": [
      "computing precision: 100%|██████████| 300/300 [00:40<00:00,  7.40it/s, precision=0.963, recall=0.897, multiplicity=0.91] \n"
     ]
    },
    {
     "name": "stdout",
     "output_type": "stream",
     "text": [
      "time taken to compute precision: 41.008525133132935\n"
     ]
    },
    {
     "name": "stderr",
     "output_type": "stream",
     "text": [
      "computing overlap: 100%|██████████| 300/300 [00:01<00:00, 192.93it/s, neighbours_truth=224, neighbours_picked=340]   \n"
     ]
    },
    {
     "name": "stdout",
     "output_type": "stream",
     "text": [
      "/home/mjoosten1/projects/roodmus/data/20231017_EMPIAR_SNR_comparison/mrc_epa_15\n",
      "loading metadata from /home/mjoosten1/projects/roodmus/data/20231017_EMPIAR_SNR_comparison/Extract/job071/particles.star...\n",
      "loaded metadata from /home/mjoosten1/projects/roodmus/data/20231017_EMPIAR_SNR_comparison/Extract/job071/particles.star. determined file type: star\n",
      "\n",
      "\n",
      "Dictionaries now contain 36346 reconstructed particles\n",
      "added 36346 particles from /home/mjoosten1/projects/roodmus/data/20231017_EMPIAR_SNR_comparison/Extract/job071/particles.star\n"
     ]
    },
    {
     "name": "stderr",
     "output_type": "stream",
     "text": [
      "loading truth data: 100%|██████████| 100/100 [00:21<00:00,  4.60it/s, micrograph=000099.mrc]\n"
     ]
    },
    {
     "name": "stdout",
     "output_type": "stream",
     "text": [
      "Loaded ground-truth particle positions from config files\n",
      "Dictionaries now contain 36346 particles and 30000 true particles\n",
      "Added 30000 particles from /home/mjoosten1/projects/roodmus/data/20231017_EMPIAR_SNR_comparison/mrc_epa_15\n",
      "loading metadata from /home/mjoosten1/projects/roodmus/data/20231017_EMPIAR_SNR_comparison/Extract/job076/particles.star...\n",
      "loaded metadata from /home/mjoosten1/projects/roodmus/data/20231017_EMPIAR_SNR_comparison/Extract/job076/particles.star. determined file type: star\n",
      "checking if ugraphs exist...\n",
      "\n",
      "\n",
      "Dictionaries now contain 95714 reconstructed particles\n",
      "added 59368 particles from /home/mjoosten1/projects/roodmus/data/20231017_EMPIAR_SNR_comparison/Extract/job076/particles.star\n",
      "loading metadata from /home/mjoosten1/projects/roodmus/data/20231017_EMPIAR_SNR_comparison/Refine3D/job082/run_data.star...\n",
      "loaded metadata from /home/mjoosten1/projects/roodmus/data/20231017_EMPIAR_SNR_comparison/Refine3D/job082/run_data.star. determined file type: star\n",
      "checking if ugraphs exist...\n",
      "\n",
      "\n",
      "Dictionaries now contain 114583 reconstructed particles\n",
      "added 18869 particles from /home/mjoosten1/projects/roodmus/data/20231017_EMPIAR_SNR_comparison/Refine3D/job082/run_data.star\n",
      "For each micrograph, for each metadata file, compute the precision, recall and multiplicity\n",
      "Speed of computation depends on the number of particles in the micrograph. progressbar is not accurate\n",
      "Total number of groups to loop over: 300\n",
      "Number of micgrographs: 100\n",
      "Number of metadata files: 3\n",
      "Starting loop over groups\n"
     ]
    },
    {
     "name": "stderr",
     "output_type": "stream",
     "text": [
      "computing precision: 100%|██████████| 300/300 [00:32<00:00,  9.26it/s, precision=0.97, recall=0.655, multiplicity=0.663] \n"
     ]
    },
    {
     "name": "stdout",
     "output_type": "stream",
     "text": [
      "time taken to compute precision: 32.70500826835632\n"
     ]
    },
    {
     "name": "stderr",
     "output_type": "stream",
     "text": [
      "computing overlap: 100%|██████████| 300/300 [00:01<00:00, 176.20it/s, neighbours_truth=227, neighbours_picked=250]\n"
     ]
    },
    {
     "name": "stdout",
     "output_type": "stream",
     "text": [
      "/home/mjoosten1/projects/roodmus/data/20231017_EMPIAR_SNR_comparison/mrc_epa_05\n",
      "loading metadata from /home/mjoosten1/projects/roodmus/data/20231017_EMPIAR_SNR_comparison/Extract/job088/particles.star...\n",
      "loaded metadata from /home/mjoosten1/projects/roodmus/data/20231017_EMPIAR_SNR_comparison/Extract/job088/particles.star. determined file type: star\n",
      "\n",
      "\n",
      "Dictionaries now contain 36201 reconstructed particles\n",
      "added 36201 particles from /home/mjoosten1/projects/roodmus/data/20231017_EMPIAR_SNR_comparison/Extract/job088/particles.star\n"
     ]
    },
    {
     "name": "stderr",
     "output_type": "stream",
     "text": [
      "loading truth data: 100%|██████████| 100/100 [00:21<00:00,  4.63it/s, micrograph=000099.mrc]\n"
     ]
    },
    {
     "name": "stdout",
     "output_type": "stream",
     "text": [
      "Loaded ground-truth particle positions from config files\n",
      "Dictionaries now contain 36201 particles and 30000 true particles\n",
      "Added 30000 particles from /home/mjoosten1/projects/roodmus/data/20231017_EMPIAR_SNR_comparison/mrc_epa_05\n",
      "For each micrograph, for each metadata file, compute the precision, recall and multiplicity\n",
      "Speed of computation depends on the number of particles in the micrograph. progressbar is not accurate\n",
      "Total number of groups to loop over: 100\n",
      "Number of micgrographs: 100\n",
      "Number of metadata files: 1\n",
      "Starting loop over groups\n"
     ]
    },
    {
     "name": "stderr",
     "output_type": "stream",
     "text": [
      "computing precision: 100%|██████████| 100/100 [00:09<00:00, 10.28it/s, precision=0.426, recall=0.544, multiplicity=0.563]\n"
     ]
    },
    {
     "name": "stdout",
     "output_type": "stream",
     "text": [
      "time taken to compute precision: 9.76000189781189\n"
     ]
    },
    {
     "name": "stderr",
     "output_type": "stream",
     "text": [
      "computing overlap: 100%|██████████| 100/100 [00:00<00:00, 166.03it/s, neighbours_truth=213, neighbours_picked=406]\n"
     ]
    },
    {
     "name": "stdout",
     "output_type": "stream",
     "text": [
      "/home/mjoosten1/projects/roodmus/data/20231017_EMPIAR_SNR_comparison/mrc_epa_10\n",
      "loading metadata from /home/mjoosten1/projects/roodmus/data/20231017_EMPIAR_SNR_comparison/Extract/job093/particles.star...\n",
      "loaded metadata from /home/mjoosten1/projects/roodmus/data/20231017_EMPIAR_SNR_comparison/Extract/job093/particles.star. determined file type: star\n",
      "\n",
      "\n",
      "Dictionaries now contain 36415 reconstructed particles\n",
      "added 36415 particles from /home/mjoosten1/projects/roodmus/data/20231017_EMPIAR_SNR_comparison/Extract/job093/particles.star\n"
     ]
    },
    {
     "name": "stderr",
     "output_type": "stream",
     "text": [
      "loading truth data: 100%|██████████| 100/100 [00:21<00:00,  4.61it/s, micrograph=000099.mrc]\n"
     ]
    },
    {
     "name": "stdout",
     "output_type": "stream",
     "text": [
      "Loaded ground-truth particle positions from config files\n",
      "Dictionaries now contain 36415 particles and 30000 true particles\n",
      "Added 30000 particles from /home/mjoosten1/projects/roodmus/data/20231017_EMPIAR_SNR_comparison/mrc_epa_10\n",
      "For each micrograph, for each metadata file, compute the precision, recall and multiplicity\n",
      "Speed of computation depends on the number of particles in the micrograph. progressbar is not accurate\n",
      "Total number of groups to loop over: 100\n",
      "Number of micgrographs: 100\n",
      "Number of metadata files: 1\n",
      "Starting loop over groups\n"
     ]
    },
    {
     "name": "stderr",
     "output_type": "stream",
     "text": [
      "computing precision: 100%|██████████| 100/100 [00:10<00:00,  9.74it/s, precision=0.53, recall=0.681, multiplicity=0.7]  \n"
     ]
    },
    {
     "name": "stdout",
     "output_type": "stream",
     "text": [
      "time taken to compute precision: 10.30062460899353\n"
     ]
    },
    {
     "name": "stderr",
     "output_type": "stream",
     "text": [
      "computing overlap: 100%|██████████| 100/100 [00:00<00:00, 163.77it/s, neighbours_truth=258, neighbours_picked=414]\n"
     ]
    },
    {
     "name": "stdout",
     "output_type": "stream",
     "text": [
      "/home/mjoosten1/projects/roodmus/data/20231017_EMPIAR_SNR_comparison/mrc_epa_12\n",
      "loading metadata from /home/mjoosten1/projects/roodmus/data/20231017_EMPIAR_SNR_comparison/Extract/job098/particles.star...\n",
      "loaded metadata from /home/mjoosten1/projects/roodmus/data/20231017_EMPIAR_SNR_comparison/Extract/job098/particles.star. determined file type: star\n",
      "\n",
      "\n",
      "Dictionaries now contain 36447 reconstructed particles\n",
      "added 36447 particles from /home/mjoosten1/projects/roodmus/data/20231017_EMPIAR_SNR_comparison/Extract/job098/particles.star\n"
     ]
    },
    {
     "name": "stderr",
     "output_type": "stream",
     "text": [
      "loading truth data: 100%|██████████| 100/100 [00:21<00:00,  4.58it/s, micrograph=000099.mrc]\n"
     ]
    },
    {
     "name": "stdout",
     "output_type": "stream",
     "text": [
      "Loaded ground-truth particle positions from config files\n",
      "Dictionaries now contain 36447 particles and 30000 true particles\n",
      "Added 30000 particles from /home/mjoosten1/projects/roodmus/data/20231017_EMPIAR_SNR_comparison/mrc_epa_12\n",
      "For each micrograph, for each metadata file, compute the precision, recall and multiplicity\n",
      "Speed of computation depends on the number of particles in the micrograph. progressbar is not accurate\n",
      "Total number of groups to loop over: 100\n",
      "Number of micgrographs: 100\n",
      "Number of metadata files: 1\n",
      "Starting loop over groups\n"
     ]
    },
    {
     "name": "stderr",
     "output_type": "stream",
     "text": [
      "computing precision: 100%|██████████| 100/100 [00:10<00:00,  9.95it/s, precision=0.508, recall=0.637, multiplicity=0.657]\n"
     ]
    },
    {
     "name": "stdout",
     "output_type": "stream",
     "text": [
      "time taken to compute precision: 10.170163869857788\n"
     ]
    },
    {
     "name": "stderr",
     "output_type": "stream",
     "text": [
      "computing overlap: 100%|██████████| 100/100 [00:00<00:00, 169.27it/s, neighbours_truth=243, neighbours_picked=414]\n"
     ]
    },
    {
     "name": "stdout",
     "output_type": "stream",
     "text": [
      "/home/mjoosten1/projects/roodmus/data/20231017_EMPIAR_SNR_comparison/mrc_epa_08\n",
      "loading metadata from /home/mjoosten1/projects/roodmus/data/20231017_EMPIAR_SNR_comparison/Extract/job114/particles.star...\n",
      "loaded metadata from /home/mjoosten1/projects/roodmus/data/20231017_EMPIAR_SNR_comparison/Extract/job114/particles.star. determined file type: star\n",
      "\n",
      "\n",
      "Dictionaries now contain 36361 reconstructed particles\n",
      "added 36361 particles from /home/mjoosten1/projects/roodmus/data/20231017_EMPIAR_SNR_comparison/Extract/job114/particles.star\n"
     ]
    },
    {
     "name": "stderr",
     "output_type": "stream",
     "text": [
      "loading truth data: 100%|██████████| 100/100 [00:21<00:00,  4.64it/s, micrograph=000099.mrc]\n"
     ]
    },
    {
     "name": "stdout",
     "output_type": "stream",
     "text": [
      "Loaded ground-truth particle positions from config files\n",
      "Dictionaries now contain 36361 particles and 30000 true particles\n",
      "Added 30000 particles from /home/mjoosten1/projects/roodmus/data/20231017_EMPIAR_SNR_comparison/mrc_epa_08\n",
      "For each micrograph, for each metadata file, compute the precision, recall and multiplicity\n",
      "Speed of computation depends on the number of particles in the micrograph. progressbar is not accurate\n",
      "Total number of groups to loop over: 100\n",
      "Number of micgrographs: 100\n",
      "Number of metadata files: 1\n",
      "Starting loop over groups\n"
     ]
    },
    {
     "name": "stderr",
     "output_type": "stream",
     "text": [
      "computing precision: 100%|██████████| 100/100 [00:10<00:00,  9.97it/s, precision=0.469, recall=0.609, multiplicity=0.63] \n"
     ]
    },
    {
     "name": "stdout",
     "output_type": "stream",
     "text": [
      "time taken to compute precision: 10.155454397201538\n"
     ]
    },
    {
     "name": "stderr",
     "output_type": "stream",
     "text": [
      "computing overlap: 100%|██████████| 100/100 [00:00<00:00, 152.33it/s, neighbours_truth=248, neighbours_picked=422]\n"
     ]
    }
   ],
   "source": [
    "project_dir = \"/home/mjoosten1/projects/roodmus/data/20231017_EMPIAR_SNR_comparison\"\n",
    "figures_dir = os.path.join(project_dir, \"figures\")\n",
    "if not os.path.exists(figures_dir):\n",
    "    os.makedirs(figures_dir)\n",
    "particle_diameter = 100 # approximate particle diameter in Angstroms\n",
    "ugraph_shape = (4000, 4000) # shape of the micrograph in pixels. Only needs to be given if the metadata file is a .star file\n",
    "verbose = True # prints out progress statements\n",
    "ignore_missing_files = True # if .mrc files are missing, the analysis will still be performed\n",
    "enable_tqdm = True # enables tqdm progress bars\n",
    "\n",
    "data = {\n",
    "    0: {\n",
    "        \"exposure\": 45,\n",
    "        \"LoG\": \"job004\",\n",
    "        \"Class2D\": \"job005\",\n",
    "        \"topaz\": \"job010\",\n",
    "        \"homogeneous\": \"job016\"\n",
    "    },\n",
    "    1: {\n",
    "        \"exposure\": 35,\n",
    "        \"LoG\": \"job037\",\n",
    "        \"Class2D\": \"job038\",\n",
    "        \"topaz\": \"job042\",\n",
    "        \"homogeneous\": \"job048\"\n",
    "    },\n",
    "    2: {\n",
    "        \"exposure\": 25,\n",
    "        \"LoG\": \"job054\",\n",
    "        \"Class2D\": \"job055\",\n",
    "        \"topaz\": \"job059\",\n",
    "        \"homogeneous\": \"job065\"\n",
    "    },\n",
    "    3: {\n",
    "        \"exposure\": 15,\n",
    "        \"LoG\": \"job071\",\n",
    "        \"Class2D\": \"job072\",\n",
    "        \"topaz\": \"job076\",\n",
    "        \"homogeneous\": \"job082\"\n",
    "    },\n",
    "    4: {\n",
    "        \"exposure\": 5,\n",
    "        \"LoG\": \"job088\",\n",
    "        \"Class2D\": \"job089\",\n",
    "        \"topaz\": None,\n",
    "        \"homogeneous\": None\n",
    "    },\n",
    "    5: {\n",
    "        \"exposure\": 10,\n",
    "        \"LoG\": \"job093\",\n",
    "        \"Class2D\": \"job094\",\n",
    "        \"topaz\": None,\n",
    "        \"homogeneous\": None\n",
    "    },\n",
    "    6: {\n",
    "        \"exposure\": 12,\n",
    "        \"LoG\": \"job098\",\n",
    "        \"Class2D\": \"job099\",\n",
    "        \"topaz\": None,\n",
    "        \"homogeneous\": None\n",
    "    },\n",
    "        7: {\n",
    "        \"exposure\": 8,\n",
    "        \"LoG\": \"job114\",\n",
    "        \"Class2D\": \"job115\",\n",
    "        \"topaz\": None,\n",
    "        \"homogeneous\": None,\n",
    "    },\n",
    "}\n",
    "\n",
    "for key, item in data.items():\n",
    "    exposure = f\"{item['exposure']}\".zfill(2)\n",
    "    config_dir = os.path.join(project_dir, f\"mrc_epa_{exposure}\")\n",
    "    print(config_dir)\n",
    "    meta_files = [\n",
    "        os.path.join(project_dir, \"Extract\", item[\"LoG\"], \"particles.star\"),\n",
    "        # os.path.join(project_dir, \"Class2D\", item[\"Class2D\"], \"run_it025_data.star\"),\n",
    "    ]\n",
    "    jobtypes = {\n",
    "        os.path.join(project_dir, \"Extract\", item[\"LoG\"], \"particles.star\"): \"LoG\",\n",
    "        os.path.join(project_dir, \"Class2D\", item[\"Class2D\"], \"run_it025_data.star\"): \"Class2D\",\n",
    "    }\n",
    "    if item[\"topaz\"]:\n",
    "        meta_files.append(os.path.join(project_dir, \"Extract\", item[\"topaz\"], \"particles.star\"))\n",
    "        jobtypes[os.path.join(project_dir, \"Extract\", item[\"topaz\"], \"particles.star\")] = \"topaz\"\n",
    "    if item[\"homogeneous\"]:\n",
    "        meta_files.append(os.path.join(project_dir, \"Refine3D\", item[\"homogeneous\"], \"run_data.star\"))\n",
    "        jobtypes[os.path.join(project_dir, \"Refine3D\", item[\"homogeneous\"], \"run_data.star\")] = \"homogeneous\"\n",
    "\n",
    "    for i, meta_file in enumerate(meta_files):\n",
    "        if i == 0:\n",
    "            analysis = load_data(meta_file, config_dir, particle_diameter, ugraph_shape=ugraph_shape, verbose=verbose, enable_tqdm=enable_tqdm, ignore_missing_files=ignore_missing_files) # creates the class\n",
    "        else:\n",
    "            analysis.add_data(meta_file, config_dir, verbose=verbose) # updates the class with the next metadata file\n",
    "    \n",
    "    df_picked = pd.DataFrame(analysis.results_picking)\n",
    "    df_truth = pd.DataFrame(analysis.results_truth)\n",
    "\n",
    "    # compute precision and recall\n",
    "    df_precision, df_picked = analysis.compute_precision(df_picked, df_truth, verbose=verbose)\n",
    "\n",
    "    # add a column to the picked data frame that indicates exposure\n",
    "    df_picked[\"exposure\"] = item[\"exposure\"]\n",
    "    df_precision[\"exposure\"] = item[\"exposure\"]\n",
    "\n",
    "    df_overlap = analysis.compute_overlap(df_picked, df_truth, verbose=verbose)\n",
    "\n",
    "    # add a column to the overlap data frame that indicates exposure\n",
    "    df_overlap[\"exposure\"] = item[\"exposure\"]\n",
    "\n",
    "    if key == 0:\n",
    "        df_precision_all = df_precision\n",
    "        df_picked_all = df_picked\n",
    "        df_overlap_all = df_overlap\n",
    "        df_truth_all = df_truth\n",
    "    else:\n",
    "        df_precision_all = pd.concat([df_precision_all, df_precision])\n",
    "        df_picked_all = pd.concat([df_picked_all, df_picked])\n",
    "        df_overlap_all = pd.concat([df_overlap_all, df_overlap])\n",
    "        df_truth_all = pd.concat([df_truth_all, df_truth])\n",
    "\n",
    "jobtypes_all = {}\n",
    "for value in data.values():\n",
    "    jobtypes_all[value[\"LoG\"]] = \"LoG\"\n",
    "    # jobtypes_all[value[\"Class2D\"]] = \"Class2D\"\n",
    "    if value[\"topaz\"]:\n",
    "        jobtypes_all[value[\"topaz\"]] = \"topaz\"\n",
    "    if value[\"homogeneous\"]:\n",
    "        jobtypes_all[value[\"homogeneous\"]] = \"homogeneous\"\n",
    "df_precision_all[\"job\"] = df_precision_all[\"metadata_filename\"].apply(lambda x: x.split(\"/\")[-2])\n",
    "df_precision_all[\"jobtype\"] = df_precision_all[\"job\"].map(jobtypes_all)\n",
    "df_picked_all[\"job\"] = df_picked_all[\"metadata_filename\"].apply(lambda x: x.split(\"/\")[-2])\n",
    "df_picked_all[\"jobtype\"] = df_picked_all[\"job\"].map(jobtypes_all)"
   ]
  },
  {
   "cell_type": "code",
   "execution_count": null,
   "metadata": {},
   "outputs": [],
   "source": [
    "# sort df_precision_all by exposure\n",
    "df_precision_LoG = df_precision_all.groupby(\"jobtype\").get_group(\"LoG\")\n",
    "\n",
    "fig, ax = plt.subplots(figsize=(7, 3.5))\n",
    "# create stripplot for precision per exposure, with different columns for different metadata files\n",
    "sns.stripplot(x=\"exposure\", y=\"recall\", hue=\"defocus\", data=df_precision_LoG, ax=ax, jitter=0.1, dodge=False, alpha=0.5, legend=False, palette=\"RdYlBu\")\n",
    "sns.boxplot(x=\"exposure\", y=\"recall\", hue=\"exposure\", data=df_precision_LoG, ax=ax, dodge=False, palette=\"Blues\", legend=False)\n",
    "\n",
    "ax.set_xlabel(\"electron dose (e-/$\\AA^2$)\", fontsize=16)\n",
    "ax.set_ylabel(\"recall\", fontsize=16)\n",
    "sm = plt.cm.ScalarMappable(\n",
    "    cmap=\"RdYlBu\",\n",
    "    norm=plt.Normalize(\n",
    "        vmin=df_precision[\"defocus\"].min()/10000,\n",
    "        vmax=df_precision[\"defocus\"].max()/10000,\n",
    "    ),\n",
    ")\n",
    "sm._A = []\n",
    "cbar = fig.colorbar(sm, ax=ax)\n",
    "cbar.set_label(\"defocus (\\u03BCm)\", rotation=270, labelpad=20, fontsize=16)\n",
    "cbar.ax.tick_params(labelsize=14)\n",
    "\n",
    "fig.savefig(os.path.join(figures_dir, \"recall_vs_exposure.pdf\"), bbox_inches=\"tight\")\n",
    "\n"
   ]
  },
  {
   "cell_type": "code",
   "execution_count": null,
   "metadata": {},
   "outputs": [],
   "source": [
    "df_precision_LoG = df_precision_all.groupby(\"jobtype\").get_group(\"LoG\")\n",
    "\n",
    "fig, ax = plt.subplots(figsize=(7, 3.5))\n",
    "# create stripplot for precision per exposure, with different columns for different metadata files\n",
    "sns.stripplot(x=\"exposure\", y=\"precision\", hue=\"defocus\", data=df_precision_LoG, ax=ax, jitter=0.1, dodge=False, alpha=0.5, legend=False, palette=\"RdYlBu\")\n",
    "sns.boxplot(x=\"exposure\", y=\"precision\", hue=\"exposure\", data=df_precision_LoG, ax=ax, dodge=False, palette=\"Blues\", legend=False)\n",
    "\n",
    "ax.set_xlabel(\"electron dose (e-/$\\AA^2$)\", fontsize=16)\n",
    "ax.set_ylabel(\"precision\", fontsize=16)\n",
    "sm = plt.cm.ScalarMappable(\n",
    "    cmap=\"RdYlBu\",\n",
    "    norm=plt.Normalize(\n",
    "        vmin=df_precision[\"defocus\"].min()/10000,\n",
    "        vmax=df_precision[\"defocus\"].max()/10000,\n",
    "    ),\n",
    ")\n",
    "sm._A = []\n",
    "cbar = fig.colorbar(sm, ax=ax)\n",
    "cbar.set_label(\"defocus (Å)\", rotation=270, labelpad=20, fontsize=16)\n",
    "cbar.ax.tick_params(labelsize=14)\n",
    "\n",
    "fig.savefig(os.path.join(figures_dir, \"precision_vs_exposure.pdf\"), bbox_inches=\"tight\")"
   ]
  },
  {
   "cell_type": "markdown",
   "metadata": {},
   "source": [
    "## panel C\n",
    "plotting 2D class averages for different electron dose levels (specifically 45, 35, 25, 15 e/A2) \n"
   ]
  },
  {
   "cell_type": "code",
   "execution_count": null,
   "metadata": {},
   "outputs": [],
   "source": [
    "# plotting 2D classes\n",
    "project_dir = \"/home/mjoosten1/projects/roodmus/data/20231017_EMPIAR_SNR_comparison\"\n",
    "figures_dir = os.path.join(project_dir, \"figures\")\n",
    "\n",
    "data = {\n",
    "    0: {\n",
    "        \"exposure\": 45,\n",
    "        \"LoG\": \"job004\",\n",
    "        \"Class2D\": \"job005\",\n",
    "        \"topaz\": \"job010\",\n",
    "        \"homogeneous\": \"job016\",\n",
    "        \"Selection\": \"job100\",\n",
    "    },\n",
    "    1: {\n",
    "        \"exposure\": 35,\n",
    "        \"LoG\": \"job037\",\n",
    "        \"Class2D\": \"job038\",\n",
    "        \"topaz\": \"job042\",\n",
    "        \"homogeneous\": \"job048\",\n",
    "        \"Selection\": \"job102\",\n",
    "    },\n",
    "    2: {\n",
    "        \"exposure\": 25,\n",
    "        \"LoG\": \"job054\",\n",
    "        \"Class2D\": \"job055\",\n",
    "        \"topaz\": \"job059\",\n",
    "        \"homogeneous\": \"job065\",\n",
    "        \"Selection\": \"job103\",\n",
    "    },\n",
    "    3: {\n",
    "        \"exposure\": 15,\n",
    "        \"LoG\": \"job071\",\n",
    "        \"Class2D\": \"job072\",\n",
    "        \"topaz\": \"job076\",\n",
    "        \"homogeneous\": \"job082\",\n",
    "        \"Selection\": \"job106\",\n",
    "    },\n",
    "    4: {\n",
    "        \"exposure\": 5,\n",
    "        \"LoG\": \"job088\",\n",
    "        \"Class2D\": \"job089\",\n",
    "        \"topaz\": None,\n",
    "        \"homogeneous\": None,\n",
    "        \"Selection\": \"job107\",\n",
    "    },\n",
    "    5: {\n",
    "        \"exposure\": 10,\n",
    "        \"LoG\": \"job093\",\n",
    "        \"Class2D\": \"job094\",\n",
    "        \"topaz\": None,\n",
    "        \"homogeneous\": None,\n",
    "        \"Selection\": \"job108\",\n",
    "    },\n",
    "    6: {\n",
    "        \"exposure\": 12,\n",
    "        \"LoG\": \"job098\",\n",
    "        \"Class2D\": \"job099\",\n",
    "        \"topaz\": None,\n",
    "        \"homogeneous\": None,\n",
    "        \"Selection\": \"job109\",\n",
    "    },\n",
    "    7: {\n",
    "        \"exposure\": 8,\n",
    "        \"LoG\": \"job114\",\n",
    "        \"Class2D\": \"job115\",\n",
    "        \"topaz\": None,\n",
    "        \"homogeneous\": None,\n",
    "        \"Selection\": \"job116\",\n",
    "    }\n",
    "}\n",
    "N_classes = 4 # number of classes to select\n",
    "\n",
    "for key, value in data.items():\n",
    "    rank_starfile = os.path.join(project_dir, \"Select\", value[\"Selection\"], \"rank_model.star\")\n",
    "    rank_cif = cif.read(rank_starfile)\n",
    "    data_model_classes = rank_cif.find_block(\"model_classes\")\n",
    "    rlnClassScore = np.array(data_model_classes.find_loop(\"_rlnClassScore\"), dtype=float)\n",
    "    rlnClassDistribution = np.array(data_model_classes.find_loop(\"_rlnClassDistribution\"), dtype=float)\n",
    "    rlnEstimatedResolution = np.array(data_model_classes.find_loop(\"_rlnEstimatedResolution\"), dtype=float)\n",
    "\n",
    "    # get the class averages\n",
    "    class_average_file = os.path.join(project_dir, \"Class2D\", value[\"Class2D\"], \"run_it025_classes.mrcs\")\n",
    "    class_average = mrcfile.open(class_average_file, mode=\"r\")\n",
    "\n",
    "    # select the N best classee by class score and plot them with their class score and little space between them\n",
    "    idx_best_classes = np.argsort(rlnClassScore)[::-1][:N_classes]\n",
    "    fig, axes = plt.subplots(1, N_classes, figsize=(N_classes * 3, 3))\n",
    "    for i, idx in enumerate(idx_best_classes):\n",
    "        axes[i].imshow(class_average.data[idx, :, :], cmap=\"gray\", origin=\"lower\")\n",
    "        axes[i].text(0.2, 0.9, f\"{rlnClassScore[idx]:.2f}\", horizontalalignment=\"center\", verticalalignment=\"center\", transform=axes[i].transAxes, color=\"yellow\", fontsize=28)\n",
    "        axes[i].text(0.7, 0.1, f\"{rlnClassDistribution[idx]*100:.2f}%\", horizontalalignment=\"center\", verticalalignment=\"center\", transform=axes[i].transAxes, color=\"white\", fontsize=28)\n",
    "        # axes[i].text(0.2, 0.1, f\"{rlnEstimatedResolution[idx]:.2f} $\\AA$\", horizontalalignment=\"center\", verticalalignment=\"center\", transform=axes[i].transAxes, color=\"white\", fontsize=16)\n",
    "        axes[i].axis(\"off\")\n",
    "\n",
    "    # reduce the space between subplots\n",
    "    fig.subplots_adjust(wspace=0.01)\n",
    "\n",
    "    # save the figure\n",
    "    fig.savefig(os.path.join(figures_dir, f\"best_classes_{value['exposure']}.pdf\"), bbox_inches=\"tight\")\n"
   ]
  },
  {
   "cell_type": "markdown",
   "metadata": {},
   "source": [
    "## panel D\n",
    "plotting the number of particles left after selecting classes with the automatic class selection tool from RELION at a threshold of 0.3 and 0.5. In addition, the plot will show the resolution for the cases where the number of particles remaning is above 4000."
   ]
  },
  {
   "cell_type": "code",
   "execution_count": 7,
   "metadata": {},
   "outputs": [
    {
     "name": "stdout",
     "output_type": "stream",
     "text": [
      "45\n",
      "35\n",
      "25\n",
      "15\n"
     ]
    },
    {
     "data": {
      "text/html": [
       "<div>\n",
       "<style scoped>\n",
       "    .dataframe tbody tr th:only-of-type {\n",
       "        vertical-align: middle;\n",
       "    }\n",
       "\n",
       "    .dataframe tbody tr th {\n",
       "        vertical-align: top;\n",
       "    }\n",
       "\n",
       "    .dataframe thead th {\n",
       "        text-align: right;\n",
       "    }\n",
       "</style>\n",
       "<table border=\"1\" class=\"dataframe\">\n",
       "  <thead>\n",
       "    <tr style=\"text-align: right;\">\n",
       "      <th></th>\n",
       "      <th>exposure</th>\n",
       "      <th>auto_selection_0.5</th>\n",
       "      <th>auto_selection_0.3</th>\n",
       "      <th>postprocess</th>\n",
       "    </tr>\n",
       "  </thead>\n",
       "  <tbody>\n",
       "    <tr>\n",
       "      <th>0</th>\n",
       "      <td>45</td>\n",
       "      <td>6953</td>\n",
       "      <td>11436</td>\n",
       "      <td>2.711864</td>\n",
       "    </tr>\n",
       "    <tr>\n",
       "      <th>1</th>\n",
       "      <td>35</td>\n",
       "      <td>3540</td>\n",
       "      <td>10645</td>\n",
       "      <td>2.689076</td>\n",
       "    </tr>\n",
       "    <tr>\n",
       "      <th>2</th>\n",
       "      <td>25</td>\n",
       "      <td>1705</td>\n",
       "      <td>4715</td>\n",
       "      <td>3.368421</td>\n",
       "    </tr>\n",
       "    <tr>\n",
       "      <th>3</th>\n",
       "      <td>15</td>\n",
       "      <td>0</td>\n",
       "      <td>1701</td>\n",
       "      <td>NaN</td>\n",
       "    </tr>\n",
       "  </tbody>\n",
       "</table>\n",
       "</div>"
      ],
      "text/plain": [
       "   exposure  auto_selection_0.5  auto_selection_0.3  postprocess\n",
       "0        45                6953               11436     2.711864\n",
       "1        35                3540               10645     2.689076\n",
       "2        25                1705                4715     3.368421\n",
       "3        15                   0                1701          NaN"
      ]
     },
     "execution_count": 7,
     "metadata": {},
     "output_type": "execute_result"
    }
   ],
   "source": [
    "# make a plot of the number of particles selected by automatic class selection as function of the exposure\n",
    "project_dir = \"/home/mjoosten1/projects/roodmus/data/20240110_low_exposure_data_reconstruction\"\n",
    "figures_dir = os.path.join(project_dir, \"figures\")\n",
    "\n",
    "data = {\n",
    "    0: {\n",
    "        \"exposure\": 45,\n",
    "        \"auto_selection_0.5\": \"job006\",\n",
    "        \"auto_selection_0.3\": \"job035\",\n",
    "        \"postprocess\": \"job063\"\n",
    "    },\n",
    "    1: {\n",
    "        \"exposure\": 35,\n",
    "        \"auto_selection_0.5\": \"job032\",\n",
    "        \"auto_selection_0.3\": \"job034\",\n",
    "        \"postprocess\": \"job066\",\n",
    "    },\n",
    "    2: {\n",
    "        \"exposure\": 25,\n",
    "        \"auto_selection_0.5\": \"job024\",\n",
    "        \"auto_selection_0.3\": \"job026\",\n",
    "        \"postprocess\": \"job058\",\n",
    "    },\n",
    "    3: {\n",
    "        \"exposure\": 15,\n",
    "        \"auto_selection_0.5\": \"job017\",\n",
    "        \"auto_selection_0.3\": \"job036\",\n",
    "        \"postprocess\": None,\n",
    "    },   \n",
    "}\n",
    "\n",
    "result = {\n",
    "    \"exposure\": [],\n",
    "    \"auto_selection_0.5\": [],\n",
    "    \"auto_selection_0.3\": [],\n",
    "    \"postprocess\": [],\n",
    "}\n",
    "\n",
    "for key, item in data.items():\n",
    "    result[\"exposure\"].append(item[\"exposure\"])\n",
    "    print(item[\"exposure\"])\n",
    "\n",
    "    data_star = os.path.join(project_dir, \"Select\", item[\"auto_selection_0.5\"], \"particles.star\")\n",
    "    data_cif = cif.read_file(data_star)\n",
    "    particles = data_cif.find_block(\"particles\")\n",
    "    if particles is not None:\n",
    "        rlnMicrographName = particles.find_loop(\"_rlnMicrographName\")\n",
    "        numParticles = len(rlnMicrographName)\n",
    "        result[\"auto_selection_0.5\"].append(numParticles)\n",
    "    else:\n",
    "        result[\"auto_selection_0.5\"].append(0)\n",
    "\n",
    "    data_star = os.path.join(project_dir, \"Select\", item[\"auto_selection_0.3\"], \"particles.star\")\n",
    "    data_cif = cif.read_file(data_star)\n",
    "    particles = data_cif.find_block(\"particles\")\n",
    "    if particles is not None:\n",
    "        rlnMicrographName = particles.find_loop(\"_rlnMicrographName\")\n",
    "        numParticles = len(rlnMicrographName)\n",
    "        result[\"auto_selection_0.3\"].append(numParticles)\n",
    "    else:\n",
    "        result[\"auto_selection_0.3\"].append(0)\n",
    "\n",
    "    if item[\"postprocess\"]:\n",
    "        postprocess_star = os.path.join(project_dir, \"PostProcess\", item[\"postprocess\"], \"postprocess.star\")\n",
    "        postprocess_cif = cif.read_file(postprocess_star)\n",
    "        general = postprocess_cif.find_block(\"general\")\n",
    "        rlnFinalResolution = general.find_value(\"_rlnFinalResolution\")\n",
    "        result[\"postprocess\"].append(float(rlnFinalResolution))\n",
    "    else:\n",
    "        result[\"postprocess\"].append(np.nan)\n",
    "\n",
    "\n",
    "df = pd.DataFrame(result)\n",
    "df.head()\n"
   ]
  },
  {
   "cell_type": "code",
   "execution_count": 9,
   "metadata": {},
   "outputs": [
    {
     "name": "stdout",
     "output_type": "stream",
     "text": [
      "/home/mjoosten1/projects/roodmus/data/20240110_low_exposure_data_reconstruction/figures/auto_selection_vs_exposure.pdf\n"
     ]
    },
    {
     "data": {
      "image/png": "[encoded data removed]",
      "text/plain": [
       "<Figure size 350x350 with 2 Axes>"
      ]
     },
     "metadata": {},
     "output_type": "display_data"
    }
   ],
   "source": [
    "fig, ax = plt.subplots(figsize=(3.5, 3.5))\n",
    "sns.lineplot(x=\"exposure\", y=\"auto_selection_0.5\", data=df, ax=ax, marker=\"o\", label=\"0.5 threshold\")\n",
    "sns.lineplot(x=\"exposure\", y=\"auto_selection_0.3\", data=df, ax=ax, marker=\"^\", label=\"0.3 threshold\")\n",
    "ax.set_xlabel(\"electron dose (e-/$\\AA^2$)\", fontsize=16)\n",
    "ax.set_ylabel(\"Number of particles\", fontsize=16)\n",
    "\n",
    "ax_res = ax.twinx()\n",
    "sns.lineplot(x=\"exposure\", y=\"postprocess\", data=df, ax=ax_res, marker=\"s\", color=\"k\", label=\"resolution\")\n",
    "# invert the y-axis\n",
    "ax_res.invert_yaxis()\n",
    "ax_res.set_ylim((3.5, 2.5))\n",
    "ax_res.set_ylabel(\"Resolution (Å)\", fontsize=16, rotation=270, labelpad=20)\n",
    "\n",
    "ax.tick_params(labelsize=14)\n",
    "ax_res.tick_params(labelsize=14)\n",
    "ax.set_xticks([15, 25, 35, 45])\n",
    "\n",
    "# make 1 combined legend for both axes\n",
    "lines, labels = ax.get_legend_handles_labels()\n",
    "lines2, labels2 = ax_res.get_legend_handles_labels()\n",
    "ax_res.legend(lines + lines2, labels + labels2, loc=0, fontsize=12, bbox_to_anchor=(0.6, 1.2), ncol=1)\n",
    "ax.legend().remove()\n",
    "ax.axhline(4000, color=\"red\", linestyle=\"--\", linewidth=1)\n",
    "\n",
    "fig.savefig(os.path.join(figures_dir, \"auto_selection_vs_exposure.pdf\"), bbox_inches=\"tight\")\n",
    "print(os.path.join(figures_dir, \"auto_selection_vs_exposure.pdf\"))\n"
   ]
  },
  {
   "cell_type": "markdown",
   "metadata": {},
   "source": [
    "## panel E\n",
    "Plot of the average distance between a picked particle and the closest truth particle. This acts as a measurement of the accuracy of the particle picking. The data gets filtered to only include TP particles (i.e. particles that are within 1 particle radius of a truth particle). Because of this, the increase in average distance cannot be explained by more FP particle picks, and only by less precise picking of good particles."
   ]
  },
  {
   "cell_type": "code",
   "execution_count": 8,
   "metadata": {},
   "outputs": [
    {
     "data": {
      "image/png": "[encoded data removed]",
      "text/plain": [
       "<Figure size 350x350 with 1 Axes>"
      ]
     },
     "metadata": {},
     "output_type": "display_data"
    }
   ],
   "source": [
    "# plot the average distance to the closest particle as a function of exposure\n",
    "df_picked_all[\"job\"] = df_picked_all[\"metadata_filename\"].apply(lambda x: x.split(\"/\")[-2])\n",
    "df_picked_all[\"jobtype\"] = df_picked_all[\"job\"].map(jobtypes_all)\n",
    "df_picked_LoG = df_picked_all[df_picked_all[\"jobtype\"] == \"LoG\"]\n",
    "df_picked_LoG_TP = df_picked_LoG.groupby(\"TP\").get_group(True)\n",
    "fig, ax = plt.subplots(figsize=(3.5, 3.5))\n",
    "# sns.violinplot(x=\"exposure\", y=\"closest_dist\", data=df_picked_LoG_TP, ax=ax, inner=\"quartile\", palette=\"Blues\", legend=False)\n",
    "sns.boxplot(x=\"exposure\", y=\"closest_dist\", hue=\"exposure\", data=df_picked_LoG_TP, ax=ax, palette=\"Blues\", legend=False)\n",
    "# sns.stripplot(x=\"exposure\", y=\"closest_dist\", data=df_picked_LoG_TP, ax=ax, jitter=0.1, dodge=True, alpha=0.5, color=\"k\")\n",
    "ax.set_xlabel(\"electron dose (e-/$\\AA^2$)\", fontsize=16)\n",
    "ax.set_ylabel(\"Distance ($\\AA$)\", fontsize=16)\n",
    "ax.tick_params(labelsize=14)\n",
    "\n",
    "fig.savefig(os.path.join(figures_dir, \"distance_to_closest_particle_vs_exposure.pdf\"), bbox_inches=\"tight\")\n"
   ]
  },
  {
   "cell_type": "code",
   "execution_count": null,
   "metadata": {},
   "outputs": [],
   "source": []
  }
 ],
 "metadata": {
  "kernelspec": {
   "display_name": "roodmus",
   "language": "python",
   "name": "python3"
  },
  "language_info": {
   "codemirror_mode": {
    "name": "ipython",
    "version": 3
   },
   "file_extension": ".py",
   "mimetype": "text/x-python",
   "name": "python",
   "nbconvert_exporter": "python",
   "pygments_lexer": "ipython3",
   "version": "3.10.13"
  }
 },
 "nbformat": 4,
 "nbformat_minor": 2
}
