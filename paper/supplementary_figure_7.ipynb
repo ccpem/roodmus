{
 "cells": [
  {
   "cell_type": "markdown",
   "metadata": {},
   "source": [
    "# plotting functions for supplementary figure 7\n",
    "Showing the results of 3DFlex training for the c3-c3b steered MD simulation"
   ]
  },
  {
   "cell_type": "code",
   "execution_count": 3,
   "metadata": {},
   "outputs": [],
   "source": [
    "# imports\n",
    "import os\n",
    "import mdtraj\n"
   ]
  },
  {
   "cell_type": "code",
   "execution_count": 5,
   "metadata": {},
   "outputs": [
    {
     "name": "stdout",
     "output_type": "stream",
     "text": [
      "number of frames in trajectory: 8000\n"
     ]
    }
   ],
   "source": [
    "# first test: load the trajectory and compare with the number of sampled states in the pdb-directory\n",
    "trj_dir = \"/tudelft/mjoosten1/staff-umbrella/ajlab/MJ/projects/Roodmus/data/c3c3b/trj\"\n",
    "\n",
    "trj = mdtraj.load(\n",
    "    os.path.join(trj_dir, \"c3_to_c3b_morph_attempt_2.nc\"),\n",
    "    top=os.path.join(trj_dir, \"c3_to_c3b_morph_frame_1_MD.pdb\")\n",
    ")\n",
    "\n",
    "print(f\"number of frames in trajectory: {trj.n_frames}\")\n",
    "\n"
   ]
  },
  {
   "cell_type": "code",
   "execution_count": null,
   "metadata": {},
   "outputs": [],
   "source": []
  }
 ],
 "metadata": {
  "kernelspec": {
   "display_name": "roodmus",
   "language": "python",
   "name": "python3"
  },
  "language_info": {
   "codemirror_mode": {
    "name": "ipython",
    "version": 3
   },
   "file_extension": ".py",
   "mimetype": "text/x-python",
   "name": "python",
   "nbconvert_exporter": "python",
   "pygments_lexer": "ipython3",
   "version": "3.10.13"
  }
 },
 "nbformat": 4,
 "nbformat_minor": 2
}
